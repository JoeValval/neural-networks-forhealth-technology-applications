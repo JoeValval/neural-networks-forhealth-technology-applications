{
 "cells": [
  {
   "cell_type": "markdown",
   "metadata": {},
   "source": [
    "<h1>Table of Contents<span class=\"tocSkip\"></span></h1>\n",
    "<div class=\"toc\">\n",
    "<ul class=\"toc-item\">\n",
    "<li><span><a href=\"# Case-1:-Heart-Disease-Classification\" data-toc-modified-id=\"Case-1:-Heart-Disease-Classification\"><span class=\"toc-item-num\">1&nbsp;&nbsp;</span>Case 1: Heart Disease Classification</a></span></li>\n",
    "<li><span><a href=\"## Background\" data-toc-modified-id=\"Background-2\"><span class=\"toc-item-num\">2&nbsp;&nbsp;</span>Background</a></span></li>\n",
    "<li><span><a href=\"## Data\" data-toc-modified-id=\"Data-3\"><span class=\"toc-item-num\">3&nbsp;&nbsp;</span>Data</a></span></li>\n",
    "<li><span><a href=\"## Models-and-training\" data-toc-modified-id=\"Models-and-training-4\"><span class=\"toc-item-num\">4&nbsp;&nbsp;</span>Models and training</a></span></li>\n",
    "<li><span><a href=\"## Results-and-Discussion\" data-toc-modified-id=\"Results-and-Discussion-5\"><span class=\"toc-item-num\">5&nbsp;&nbsp;</span>Results and Discussion</a></span></li>\n",
    "<li><span><a href=\"## Conclusions\" data-toc-modified-id=\"Conclusions-6\"><span class=\"toc-item-num\">6&nbsp;&nbsp;</span>Conclusions</a></span></li></ul></div>"
   ]
  },
  {
   "cell_type": "markdown",
   "metadata": {},
   "source": [
    "# Case 1: Heart Disease Classification\n",
    "Team 16:\n",
    "    1. Bellarina Chew\n",
    "    2. Nik Adam Nik Joharris\n",
    "    3. Valentin Dassin\n",
    "Last modified: 02.02.2020<br>\n",
    "Neural Networks for Health Technology Applications<br>\n",
    "[Helsinki Metropolia University of Applied Sciences](http://www.metropolia.fi/en/)<br>"
   ]
  },
  {
   "cell_type": "markdown",
   "metadata": {},
   "source": [
    "## Background\n",
    "The aim of this notebook is to create and train a dense neural network to predict and classify the presence of heart disease accurately with the simplest, fastest and smallest possible model.<br> \n",
    "\n",
    "The sub objectives include:\n",
    "- Building binary classification models using the deep learning framework, Keras.\n",
    "- Achieving a decent accuracy on train and test data.\n",
    "- Achieving a stable model performance with small batch size"
   ]
  },
  {
   "cell_type": "markdown",
   "metadata": {},
   "source": [
    "## Data\n",
    "The dataset used is a processed heart disease dataset from Cleveland Clinic Foundation (processed.cleveland.data) which contains 14 variables/attributes as described below:\n",
    "0. **age**      : Age in years     \n",
    "1. **sex**      : sex (1 = male; 0 = female)\n",
    "2. **cp**       : chest pain type (1 = typical angina; 2 = atypicaal angina; 3 = non-anginal pain; 4 = asymptomatic)\n",
    "3. **trestbps** : resting blood pressure in mm Hg\n",
    "4. **chol**     : serum cholestoral in mg/dl\n",
    "5. **fbs**      : fasting blood sugar > 120 mg/dl (1 = true; 0 = false)\n",
    "6. **restecg**  : resting electrocardiographic results (0= normal; 1 = having ST-T wave abnormality; 2 = showing probable or definite left ventricular hypertrophy)\n",
    "7. **thalach**  : maximum heart rate achieved\n",
    "8. **exang**    : exercise induced angina (1 = yes; 0 = no)\n",
    "9. **oldpeak**  : ST depression induced by exercise relative to rest\n",
    "10. **slope**   : the slope of the peak exercise ST segment (1 = upsloping; 2 = flat; 3 = downsloping)\n",
    "11. **ca**      : number of major vessels (0-3) colored by flourosopy\n",
    "12. **thal**    : 3 = normal; 6 = fixed defect; 7 = reversable defect\n",
    "13. **num**     : diagnosis of heart disease (angiographic disease status)"
   ]
  },
  {
   "cell_type": "code",
   "execution_count": 1,
   "metadata": {},
   "outputs": [
    {
     "name": "stdout",
     "output_type": "stream",
     "text": [
      "Populating the interactive namespace from numpy and matplotlib\n"
     ]
    }
   ],
   "source": [
    "# Preprocess data-set\n",
    "# Import important libraries\n",
    "%pylab inline\n",
    "import pandas as pd\n",
    "import matplotlib.pyplot as plt\n",
    "\n",
    "# Import necessary modules\n",
    "from sklearn.model_selection import train_test_split\n",
    "from sklearn.model_selection import KFold\n",
    "from sklearn.metrics import *\n",
    "from sklearn import preprocessing\n",
    "\n",
    "# Import Keras specific\n",
    "from tensorflow.keras.models import Sequential\n",
    "from tensorflow.keras.layers import Dense"
   ]
  },
  {
   "cell_type": "code",
   "execution_count": 2,
   "metadata": {
    "scrolled": false
   },
   "outputs": [
    {
     "name": "stdout",
     "output_type": "stream",
     "text": [
      "(303, 14)\n"
     ]
    },
    {
     "data": {
      "text/html": [
       "<div>\n",
       "<style scoped>\n",
       "    .dataframe tbody tr th:only-of-type {\n",
       "        vertical-align: middle;\n",
       "    }\n",
       "\n",
       "    .dataframe tbody tr th {\n",
       "        vertical-align: top;\n",
       "    }\n",
       "\n",
       "    .dataframe thead th {\n",
       "        text-align: right;\n",
       "    }\n",
       "</style>\n",
       "<table border=\"1\" class=\"dataframe\">\n",
       "  <thead>\n",
       "    <tr style=\"text-align: right;\">\n",
       "      <th></th>\n",
       "      <th>0</th>\n",
       "      <th>1</th>\n",
       "      <th>2</th>\n",
       "      <th>3</th>\n",
       "      <th>4</th>\n",
       "      <th>5</th>\n",
       "      <th>6</th>\n",
       "      <th>7</th>\n",
       "      <th>8</th>\n",
       "      <th>9</th>\n",
       "      <th>10</th>\n",
       "      <th>11</th>\n",
       "      <th>12</th>\n",
       "      <th>13</th>\n",
       "    </tr>\n",
       "  </thead>\n",
       "  <tbody>\n",
       "    <tr>\n",
       "      <td>count</td>\n",
       "      <td>303.000000</td>\n",
       "      <td>303.000000</td>\n",
       "      <td>303.000000</td>\n",
       "      <td>303.000000</td>\n",
       "      <td>303.000000</td>\n",
       "      <td>303.000000</td>\n",
       "      <td>303.000000</td>\n",
       "      <td>303.000000</td>\n",
       "      <td>303.000000</td>\n",
       "      <td>303.000000</td>\n",
       "      <td>303.000000</td>\n",
       "      <td>299.000000</td>\n",
       "      <td>301.000000</td>\n",
       "      <td>303.000000</td>\n",
       "    </tr>\n",
       "    <tr>\n",
       "      <td>mean</td>\n",
       "      <td>54.438944</td>\n",
       "      <td>0.679868</td>\n",
       "      <td>3.158416</td>\n",
       "      <td>131.689769</td>\n",
       "      <td>246.693069</td>\n",
       "      <td>0.148515</td>\n",
       "      <td>0.990099</td>\n",
       "      <td>149.607261</td>\n",
       "      <td>0.326733</td>\n",
       "      <td>1.039604</td>\n",
       "      <td>1.600660</td>\n",
       "      <td>0.672241</td>\n",
       "      <td>4.734219</td>\n",
       "      <td>0.937294</td>\n",
       "    </tr>\n",
       "    <tr>\n",
       "      <td>std</td>\n",
       "      <td>9.038662</td>\n",
       "      <td>0.467299</td>\n",
       "      <td>0.960126</td>\n",
       "      <td>17.599748</td>\n",
       "      <td>51.776918</td>\n",
       "      <td>0.356198</td>\n",
       "      <td>0.994971</td>\n",
       "      <td>22.875003</td>\n",
       "      <td>0.469794</td>\n",
       "      <td>1.161075</td>\n",
       "      <td>0.616226</td>\n",
       "      <td>0.937438</td>\n",
       "      <td>1.939706</td>\n",
       "      <td>1.228536</td>\n",
       "    </tr>\n",
       "    <tr>\n",
       "      <td>min</td>\n",
       "      <td>29.000000</td>\n",
       "      <td>0.000000</td>\n",
       "      <td>1.000000</td>\n",
       "      <td>94.000000</td>\n",
       "      <td>126.000000</td>\n",
       "      <td>0.000000</td>\n",
       "      <td>0.000000</td>\n",
       "      <td>71.000000</td>\n",
       "      <td>0.000000</td>\n",
       "      <td>0.000000</td>\n",
       "      <td>1.000000</td>\n",
       "      <td>0.000000</td>\n",
       "      <td>3.000000</td>\n",
       "      <td>0.000000</td>\n",
       "    </tr>\n",
       "    <tr>\n",
       "      <td>25%</td>\n",
       "      <td>48.000000</td>\n",
       "      <td>0.000000</td>\n",
       "      <td>3.000000</td>\n",
       "      <td>120.000000</td>\n",
       "      <td>211.000000</td>\n",
       "      <td>0.000000</td>\n",
       "      <td>0.000000</td>\n",
       "      <td>133.500000</td>\n",
       "      <td>0.000000</td>\n",
       "      <td>0.000000</td>\n",
       "      <td>1.000000</td>\n",
       "      <td>0.000000</td>\n",
       "      <td>3.000000</td>\n",
       "      <td>0.000000</td>\n",
       "    </tr>\n",
       "    <tr>\n",
       "      <td>50%</td>\n",
       "      <td>56.000000</td>\n",
       "      <td>1.000000</td>\n",
       "      <td>3.000000</td>\n",
       "      <td>130.000000</td>\n",
       "      <td>241.000000</td>\n",
       "      <td>0.000000</td>\n",
       "      <td>1.000000</td>\n",
       "      <td>153.000000</td>\n",
       "      <td>0.000000</td>\n",
       "      <td>0.800000</td>\n",
       "      <td>2.000000</td>\n",
       "      <td>0.000000</td>\n",
       "      <td>3.000000</td>\n",
       "      <td>0.000000</td>\n",
       "    </tr>\n",
       "    <tr>\n",
       "      <td>75%</td>\n",
       "      <td>61.000000</td>\n",
       "      <td>1.000000</td>\n",
       "      <td>4.000000</td>\n",
       "      <td>140.000000</td>\n",
       "      <td>275.000000</td>\n",
       "      <td>0.000000</td>\n",
       "      <td>2.000000</td>\n",
       "      <td>166.000000</td>\n",
       "      <td>1.000000</td>\n",
       "      <td>1.600000</td>\n",
       "      <td>2.000000</td>\n",
       "      <td>1.000000</td>\n",
       "      <td>7.000000</td>\n",
       "      <td>2.000000</td>\n",
       "    </tr>\n",
       "    <tr>\n",
       "      <td>max</td>\n",
       "      <td>77.000000</td>\n",
       "      <td>1.000000</td>\n",
       "      <td>4.000000</td>\n",
       "      <td>200.000000</td>\n",
       "      <td>564.000000</td>\n",
       "      <td>1.000000</td>\n",
       "      <td>2.000000</td>\n",
       "      <td>202.000000</td>\n",
       "      <td>1.000000</td>\n",
       "      <td>6.200000</td>\n",
       "      <td>3.000000</td>\n",
       "      <td>3.000000</td>\n",
       "      <td>7.000000</td>\n",
       "      <td>4.000000</td>\n",
       "    </tr>\n",
       "  </tbody>\n",
       "</table>\n",
       "</div>"
      ],
      "text/plain": [
       "               0           1           2           3           4           5   \\\n",
       "count  303.000000  303.000000  303.000000  303.000000  303.000000  303.000000   \n",
       "mean    54.438944    0.679868    3.158416  131.689769  246.693069    0.148515   \n",
       "std      9.038662    0.467299    0.960126   17.599748   51.776918    0.356198   \n",
       "min     29.000000    0.000000    1.000000   94.000000  126.000000    0.000000   \n",
       "25%     48.000000    0.000000    3.000000  120.000000  211.000000    0.000000   \n",
       "50%     56.000000    1.000000    3.000000  130.000000  241.000000    0.000000   \n",
       "75%     61.000000    1.000000    4.000000  140.000000  275.000000    0.000000   \n",
       "max     77.000000    1.000000    4.000000  200.000000  564.000000    1.000000   \n",
       "\n",
       "               6           7           8           9           10          11  \\\n",
       "count  303.000000  303.000000  303.000000  303.000000  303.000000  299.000000   \n",
       "mean     0.990099  149.607261    0.326733    1.039604    1.600660    0.672241   \n",
       "std      0.994971   22.875003    0.469794    1.161075    0.616226    0.937438   \n",
       "min      0.000000   71.000000    0.000000    0.000000    1.000000    0.000000   \n",
       "25%      0.000000  133.500000    0.000000    0.000000    1.000000    0.000000   \n",
       "50%      1.000000  153.000000    0.000000    0.800000    2.000000    0.000000   \n",
       "75%      2.000000  166.000000    1.000000    1.600000    2.000000    1.000000   \n",
       "max      2.000000  202.000000    1.000000    6.200000    3.000000    3.000000   \n",
       "\n",
       "               12          13  \n",
       "count  301.000000  303.000000  \n",
       "mean     4.734219    0.937294  \n",
       "std      1.939706    1.228536  \n",
       "min      3.000000    0.000000  \n",
       "25%      3.000000    0.000000  \n",
       "50%      3.000000    0.000000  \n",
       "75%      7.000000    2.000000  \n",
       "max      7.000000    4.000000  "
      ]
     },
     "execution_count": 2,
     "metadata": {},
     "output_type": "execute_result"
    }
   ],
   "source": [
    "# Import dataset\n",
    "filename = \"/Users/bella/Desktop/year 3/Neural Network/processed.cleveland.data\"\n",
    "df = pd.read_csv(filename,\n",
    "                index_col = None,\n",
    "                header = None,\n",
    "                na_values ='?')\n",
    "\n",
    "# print data shape\n",
    "print(df.shape)\n",
    "df.describe()"
   ]
  },
  {
   "cell_type": "markdown",
   "metadata": {},
   "source": [
    "The dataset used contains 303 observations and 14 variables/attributes. However, there are missing values in attribute 11(ca) and 12 (thal). As a result, missing values is handled for a more accurate result. In this case, the best method to handle missing values is to drop rows with missing values.\n"
   ]
  },
  {
   "cell_type": "code",
   "execution_count": 3,
   "metadata": {},
   "outputs": [
    {
     "name": "stdout",
     "output_type": "stream",
     "text": [
      "(297, 14)\n"
     ]
    }
   ],
   "source": [
    "# Check out missing value \n",
    "# drop rows with missing values\n",
    "df= df.dropna()\n",
    "\n",
    "#prints data shape\n",
    "print(df.shape)"
   ]
  },
  {
   "cell_type": "markdown",
   "metadata": {},
   "source": [
    "After removing rows with missing values, the size became 297."
   ]
  },
  {
   "cell_type": "markdown",
   "metadata": {},
   "source": [
    "## Models and training\n",
    "### Model\n",
    "This model is a binary classification model as we are classifying the output into 2 classifications:\n",
    "- healthy (0)\n",
    "- unhealthy (1)\n",
    "\n",
    "Arrays will be created for the Features (input) and the Response Variable (output)."
   ]
  },
  {
   "cell_type": "code",
   "execution_count": 4,
   "metadata": {},
   "outputs": [],
   "source": [
    "# Create an array of the target variable from 0 to 12 (input)\n",
    "data = df.loc[:, 0:12].values\n",
    "\n",
    "# Create an array for the predicted attribute (output)\n",
    "# simplify the labels into two classes (healthy (=0) and disease (=1)) \n",
    "labels = 1.0 * (df.loc[:, 13].values > 0)"
   ]
  },
  {
   "cell_type": "markdown",
   "metadata": {},
   "source": [
    "According to One rule-of-thumb, the entire set is divided as follows: \n",
    "- 60 % training\n",
    "- 20% validation\n",
    "- 20% testing"
   ]
  },
  {
   "cell_type": "code",
   "execution_count": 5,
   "metadata": {},
   "outputs": [
    {
     "data": {
      "text/plain": [
       "((179, 13), (58, 13), (58, 13))"
      ]
     },
     "execution_count": 5,
     "metadata": {},
     "output_type": "execute_result"
    }
   ],
   "source": [
    "# Split data-set into Training, validation and Test Set\n",
    "train_data = data[:179]\n",
    "train_labels = labels[:179]\n",
    "\n",
    "validation_data = data[180:238]\n",
    "validation_labels = labels[180:238]\n",
    "\n",
    "test_data = data[239:]\n",
    "test_labels = labels[239:] \n",
    "\n",
    "# print shape of training set, validation set and test set\n",
    "train_data.shape, validation_data.shape, test_data.shape"
   ]
  },
  {
   "cell_type": "markdown",
   "metadata": {},
   "source": [
    "After splitting the data-set into Training, Validation and Test set, the shape of the training set are as follow:\n",
    "- Training set : 179 observations of 13 variables\n",
    "- Validation set : 58 observations of 13 variables.\n",
    "- Test set : 58 observations of 13 variables. "
   ]
  },
  {
   "cell_type": "code",
   "execution_count": 6,
   "metadata": {},
   "outputs": [],
   "source": [
    "# Rescale data\n",
    "#Normalization\n",
    "#accuracy decreased, a lot of noise for high epoch\n",
    "#train_data = preprocessing.MinMaxScaler().fit_transform(train_data)\n",
    "#validation_data = preprocessing.MinMaxScaler().fit_transform(validation_data)\n",
    "#test_data = preprocessing.MinMaxScaler().fit_transform(test_data)\n",
    "\n",
    "#train_data = preprocessing.MaxAbsScaler().fit_transform(train_data)\n",
    "#validation_data = preprocessing.MaxAbsScaler().fit_transform(validation_data)\n",
    "#test_data = preprocessing.MaxAbsScaler().fit_transform(test_data)\n",
    "\n",
    "#Standardize\n",
    "#train_data = preprocessing.scale(train_data)\n",
    "#validation_data = preprocessing.scale(validation_data)\n",
    "#test_data = preprocessing.scale(test_data)\n",
    "\n",
    "train_data = preprocessing.StandardScaler().fit_transform(train_data)\n",
    "validation_data = preprocessing.StandardScaler().fit_transform(validation_data)\n",
    "test_data = preprocessing.StandardScaler().fit_transform(test_data)\n",
    "\n",
    "# mean = train_data.mean(axis=0)\n",
    "# std = train_data.std(axis=0)\n",
    "\n",
    "# train_data -= mean\n",
    "# train_data /= std\n",
    "\n",
    "# validation_data -= mean\n",
    "# validation_data /= std\n",
    "\n",
    "# test_data -= mean\n",
    "# test_data /= std"
   ]
  },
  {
   "cell_type": "markdown",
   "metadata": {},
   "source": [
    "All the variables don’t have the same scale and this will cause some issue in the machine learning model. So, **Data Rescaling** is used to limit the range of variables so that they can be compared on common grounds. After testing many different data rescaling techniques, we have found that the best method in this case is standardizing the data with StandardScaler.\n",
    "\n",
    "### Network Architecture"
   ]
  },
  {
   "cell_type": "code",
   "execution_count": 18,
   "metadata": {},
   "outputs": [
    {
     "name": "stdout",
     "output_type": "stream",
     "text": [
      "Model: \"sequential_3\"\n",
      "_________________________________________________________________\n",
      "Layer (type)                 Output Shape              Param #   \n",
      "=================================================================\n",
      "dense_6 (Dense)              (None, 12)                168       \n",
      "_________________________________________________________________\n",
      "dense_7 (Dense)              (None, 1)                 13        \n",
      "=================================================================\n",
      "Total params: 181\n",
      "Trainable params: 181\n",
      "Non-trainable params: 0\n",
      "_________________________________________________________________\n"
     ]
    }
   ],
   "source": [
    "#construct a network model \n",
    "network = Sequential()\n",
    "\n",
    "network.add(Dense(12, input_shape=(train_data.shape[1],), activation='relu'))\n",
    "network.add(Dense(1, activation='sigmoid'))\n",
    "network.summary()"
   ]
  },
  {
   "cell_type": "markdown",
   "metadata": {},
   "source": [
    "- The model used is Sequential as it allows us to create models layer by layer.\n",
    "- This model have 1 hidden layer and 10 neurons (good ratio performances/complexity and not too long to train).\n",
    "- The activation function used in the hidden layer is a **rectified linear unit(ReLU)**. It is the most widely used activation function because of its advantages of being nonlinear, as well as the ability to not activate all the neurons at the same time. In simple terms, this means that at a time, only a few neurons are activated, making the network sparse and very efficient.\n",
    "- The final output layer of the network has a sigmoid activation function, which outputs a number between 0 and 1; this is interpreted as the probability of the sample to belong to class 1."
   ]
  },
  {
   "cell_type": "code",
   "execution_count": 19,
   "metadata": {},
   "outputs": [],
   "source": [
    "# Compile the model\n",
    "network.compile(loss='binary_crossentropy',\n",
    "              optimizer='adam',\n",
    "              metrics=['accuracy'])"
   ]
  },
  {
   "cell_type": "markdown",
   "metadata": {},
   "source": [
    "- The loss function used is binary_crossentropy as we are doing binary classification\n",
    "- Optimizer is adam as it provides the most ideal result compared to rmsprop\n",
    "- metrics concerned is accuracy"
   ]
  },
  {
   "cell_type": "markdown",
   "metadata": {},
   "source": [
    "### Network Model Training\n",
    "The batch size is an important factor, usually it's quite good arround 32 as it fits the GPU:\n",
    "- If it is below 32, performances needs a lot of epochs before it achieves the ideal result. \n",
    "- If it is above 32, performances will improve quickly but we have big overfitting.\n",
    "\n",
    "While to plot for the accuracy and loss, it depends on the batch size which allows us to see how quikly a model is improving.\n",
    "**The goal is** to have good performances without having to set a big epoch.\n",
    "\n",
    "The network is initially trained with the training data and the training options of:\n",
    "- batch size : 32\n",
    "- epochs : 100\n",
    "- data shuffling : every-epoch"
   ]
  },
  {
   "cell_type": "code",
   "execution_count": 20,
   "metadata": {},
   "outputs": [
    {
     "name": "stdout",
     "output_type": "stream",
     "text": [
      "Train on 179 samples, validate on 58 samples\n",
      "Epoch 1/40\n",
      "179/179 [==============================] - 2s 9ms/sample - loss: 0.7891 - accuracy: 0.5084 - val_loss: 0.7333 - val_accuracy: 0.5000\n",
      "Epoch 2/40\n",
      "179/179 [==============================] - 0s 536us/sample - loss: 0.7600 - accuracy: 0.5196 - val_loss: 0.7102 - val_accuracy: 0.5000\n",
      "Epoch 3/40\n",
      "179/179 [==============================] - 0s 519us/sample - loss: 0.7330 - accuracy: 0.5251 - val_loss: 0.6883 - val_accuracy: 0.5345\n",
      "Epoch 4/40\n",
      "179/179 [==============================] - 0s 475us/sample - loss: 0.7070 - accuracy: 0.5307 - val_loss: 0.6684 - val_accuracy: 0.5690\n",
      "Epoch 5/40\n",
      "179/179 [==============================] - 0s 499us/sample - loss: 0.6837 - accuracy: 0.5531 - val_loss: 0.6497 - val_accuracy: 0.5862\n",
      "Epoch 6/40\n",
      "179/179 [==============================] - 0s 620us/sample - loss: 0.6623 - accuracy: 0.5754 - val_loss: 0.6320 - val_accuracy: 0.6207\n",
      "Epoch 7/40\n",
      "179/179 [==============================] - 0s 542us/sample - loss: 0.6421 - accuracy: 0.5866 - val_loss: 0.6163 - val_accuracy: 0.6207\n",
      "Epoch 8/40\n",
      "179/179 [==============================] - 0s 447us/sample - loss: 0.6231 - accuracy: 0.5922 - val_loss: 0.6023 - val_accuracy: 0.6207\n",
      "Epoch 9/40\n",
      "179/179 [==============================] - 0s 614us/sample - loss: 0.6055 - accuracy: 0.6089 - val_loss: 0.5887 - val_accuracy: 0.6379\n",
      "Epoch 10/40\n",
      "179/179 [==============================] - 0s 564us/sample - loss: 0.5884 - accuracy: 0.6313 - val_loss: 0.5760 - val_accuracy: 0.6379\n",
      "Epoch 11/40\n",
      "179/179 [==============================] - 0s 519us/sample - loss: 0.5729 - accuracy: 0.6369 - val_loss: 0.5638 - val_accuracy: 0.6379\n",
      "Epoch 12/40\n",
      "179/179 [==============================] - 0s 497us/sample - loss: 0.5585 - accuracy: 0.6536 - val_loss: 0.5517 - val_accuracy: 0.6379\n",
      "Epoch 13/40\n",
      "179/179 [==============================] - 0s 502us/sample - loss: 0.5441 - accuracy: 0.6816 - val_loss: 0.5410 - val_accuracy: 0.6724\n",
      "Epoch 14/40\n",
      "179/179 [==============================] - 0s 502us/sample - loss: 0.5306 - accuracy: 0.6816 - val_loss: 0.5309 - val_accuracy: 0.6724\n",
      "Epoch 15/40\n",
      "179/179 [==============================] - 0s 536us/sample - loss: 0.5180 - accuracy: 0.6927 - val_loss: 0.5216 - val_accuracy: 0.7241\n",
      "Epoch 16/40\n",
      "179/179 [==============================] - 0s 536us/sample - loss: 0.5068 - accuracy: 0.6983 - val_loss: 0.5124 - val_accuracy: 0.7069\n",
      "Epoch 17/40\n",
      "179/179 [==============================] - 0s 558us/sample - loss: 0.4956 - accuracy: 0.7151 - val_loss: 0.5041 - val_accuracy: 0.7241\n",
      "Epoch 18/40\n",
      "179/179 [==============================] - 0s 542us/sample - loss: 0.4854 - accuracy: 0.7207 - val_loss: 0.4961 - val_accuracy: 0.7241\n",
      "Epoch 19/40\n",
      "179/179 [==============================] - 0s 514us/sample - loss: 0.4756 - accuracy: 0.7430 - val_loss: 0.4885 - val_accuracy: 0.7241\n",
      "Epoch 20/40\n",
      "179/179 [==============================] - 0s 558us/sample - loss: 0.4663 - accuracy: 0.7542 - val_loss: 0.4815 - val_accuracy: 0.7241\n",
      "Epoch 21/40\n",
      "179/179 [==============================] - 0s 525us/sample - loss: 0.4581 - accuracy: 0.7709 - val_loss: 0.4745 - val_accuracy: 0.7586\n",
      "Epoch 22/40\n",
      "179/179 [==============================] - 0s 553us/sample - loss: 0.4500 - accuracy: 0.7877 - val_loss: 0.4684 - val_accuracy: 0.7586\n",
      "Epoch 23/40\n",
      "179/179 [==============================] - 0s 514us/sample - loss: 0.4428 - accuracy: 0.7877 - val_loss: 0.4627 - val_accuracy: 0.7586\n",
      "Epoch 24/40\n",
      "179/179 [==============================] - 0s 514us/sample - loss: 0.4362 - accuracy: 0.7877 - val_loss: 0.4571 - val_accuracy: 0.7586\n",
      "Epoch 25/40\n",
      "179/179 [==============================] - 0s 547us/sample - loss: 0.4294 - accuracy: 0.7877 - val_loss: 0.4520 - val_accuracy: 0.7586\n",
      "Epoch 26/40\n",
      "179/179 [==============================] - 0s 614us/sample - loss: 0.4233 - accuracy: 0.7877 - val_loss: 0.4470 - val_accuracy: 0.7759\n",
      "Epoch 27/40\n",
      "179/179 [==============================] - 0s 530us/sample - loss: 0.4175 - accuracy: 0.7877 - val_loss: 0.4422 - val_accuracy: 0.7759\n",
      "Epoch 28/40\n",
      "179/179 [==============================] - 0s 542us/sample - loss: 0.4117 - accuracy: 0.7821 - val_loss: 0.4378 - val_accuracy: 0.7759\n",
      "Epoch 29/40\n",
      "179/179 [==============================] - 0s 597us/sample - loss: 0.4062 - accuracy: 0.7821 - val_loss: 0.4338 - val_accuracy: 0.7759\n",
      "Epoch 30/40\n",
      "179/179 [==============================] - 0s 575us/sample - loss: 0.4013 - accuracy: 0.7877 - val_loss: 0.4299 - val_accuracy: 0.7759\n",
      "Epoch 31/40\n",
      "179/179 [==============================] - 0s 536us/sample - loss: 0.3964 - accuracy: 0.7933 - val_loss: 0.4261 - val_accuracy: 0.7759\n",
      "Epoch 32/40\n",
      "179/179 [==============================] - 0s 530us/sample - loss: 0.3919 - accuracy: 0.7933 - val_loss: 0.4228 - val_accuracy: 0.7759\n",
      "Epoch 33/40\n",
      "179/179 [==============================] - 0s 542us/sample - loss: 0.3879 - accuracy: 0.7989 - val_loss: 0.4194 - val_accuracy: 0.7759\n",
      "Epoch 34/40\n",
      "179/179 [==============================] - 0s 542us/sample - loss: 0.3834 - accuracy: 0.7989 - val_loss: 0.4165 - val_accuracy: 0.7759\n",
      "Epoch 35/40\n",
      "179/179 [==============================] - 0s 547us/sample - loss: 0.3795 - accuracy: 0.8045 - val_loss: 0.4139 - val_accuracy: 0.7931\n",
      "Epoch 36/40\n",
      "179/179 [==============================] - 0s 597us/sample - loss: 0.3758 - accuracy: 0.8101 - val_loss: 0.4111 - val_accuracy: 0.7759\n",
      "Epoch 37/40\n",
      "179/179 [==============================] - 0s 441us/sample - loss: 0.3721 - accuracy: 0.8101 - val_loss: 0.4086 - val_accuracy: 0.7759\n",
      "Epoch 38/40\n",
      "179/179 [==============================] - 0s 525us/sample - loss: 0.3686 - accuracy: 0.8156 - val_loss: 0.4063 - val_accuracy: 0.7759\n",
      "Epoch 39/40\n",
      "179/179 [==============================] - 0s 530us/sample - loss: 0.3655 - accuracy: 0.8212 - val_loss: 0.4041 - val_accuracy: 0.7759\n",
      "Epoch 40/40\n",
      "179/179 [==============================] - 0s 625us/sample - loss: 0.3623 - accuracy: 0.8212 - val_loss: 0.4020 - val_accuracy: 0.7759\n"
     ]
    },
    {
     "data": {
      "image/png": "[encoded data removed]",
      "text/plain": [
       "<Figure size 432x288 with 1 Axes>"
      ]
     },
     "metadata": {
      "needs_background": "light"
     },
     "output_type": "display_data"
    },
    {
     "data": {
      "image/png": "[encoded data removed]",
      "text/plain": [
       "<Figure size 432x288 with 1 Axes>"
      ]
     },
     "metadata": {
      "needs_background": "light"
     },
     "output_type": "display_data"
    }
   ],
   "source": [
    "# fit model on the training data-set\n",
    "history = network.fit(train_data, train_labels,\n",
    "                    epochs=40, batch_size=32, verbose=1,\n",
    "                    validation_data = (validation_data, validation_labels))\n",
    "\n",
    "# Plot training & validation accuracy values\n",
    "plt.plot(history.history['accuracy'])\n",
    "plt.plot(history.history['val_accuracy'])\n",
    "plt.title('Model accuracy')\n",
    "plt.ylabel('Accuracy')\n",
    "plt.xlabel('Epoch')\n",
    "plt.legend(['Train', 'Validate'], loc='upper left')\n",
    "plt.show()\n",
    "\n",
    "# Plot training & validation loss values\n",
    "plt.plot(history.history['loss'])\n",
    "plt.plot(history.history['val_loss'])\n",
    "plt.title('Model loss')\n",
    "plt.ylabel('Loss')\n",
    "plt.xlabel('Epoch')\n",
    "plt.legend(['Train', 'Validate'], loc='upper left')\n",
    "plt.show()"
   ]
  },
  {
   "cell_type": "markdown",
   "metadata": {},
   "source": [
    "After training, to achieve a more ideal result, the training options are tuned to:\n",
    "- batch size : 32\n",
    "- epochs : 40\n",
    "- data shuffling : every-epoch\n",
    "\n",
    "### Network Model Validating"
   ]
  },
  {
   "cell_type": "code",
   "execution_count": 10,
   "metadata": {},
   "outputs": [
    {
     "name": "stdout",
     "output_type": "stream",
     "text": [
      "              precision    recall  f1-score   support\n",
      "\n",
      "         0.0       0.71      0.89      0.79        27\n",
      "         1.0       0.88      0.68      0.76        31\n",
      "\n",
      "    accuracy                           0.78        58\n",
      "   macro avg       0.79      0.78      0.78        58\n",
      "weighted avg       0.80      0.78      0.77        58\n",
      "\n",
      "Test sample 0.0 predicted [0.]\n",
      "Test sample 1.0 predicted [1.]\n",
      "Test sample 0.0 predicted [0.]\n",
      "Test sample 1.0 predicted [1.]\n",
      "Test sample 1.0 predicted [0.]\n",
      "Test sample 1.0 predicted [1.]\n",
      "Test sample 1.0 predicted [1.]\n",
      "Test sample 0.0 predicted [0.]\n",
      "Test sample 0.0 predicted [1.]\n",
      "Test sample 1.0 predicted [1.]\n",
      "Test sample 0.0 predicted [1.]\n",
      "Test sample 0.0 predicted [0.]\n",
      "Test sample 0.0 predicted [0.]\n",
      "Test sample 0.0 predicted [0.]\n",
      "Test sample 0.0 predicted [0.]\n",
      "Test sample 0.0 predicted [0.]\n",
      "Test sample 0.0 predicted [0.]\n",
      "Test sample 1.0 predicted [0.]\n",
      "Test sample 0.0 predicted [0.]\n",
      "Test sample 1.0 predicted [0.]\n",
      "Test sample 0.0 predicted [0.]\n",
      "Test sample 0.0 predicted [0.]\n",
      "Test sample 1.0 predicted [1.]\n",
      "Test sample 1.0 predicted [1.]\n",
      "Test sample 1.0 predicted [1.]\n",
      "Test sample 1.0 predicted [0.]\n",
      "Test sample 0.0 predicted [0.]\n",
      "Test sample 1.0 predicted [1.]\n",
      "Test sample 0.0 predicted [1.]\n",
      "Test sample 1.0 predicted [1.]\n",
      "Test sample 0.0 predicted [0.]\n",
      "Test sample 1.0 predicted [0.]\n",
      "Test sample 0.0 predicted [0.]\n",
      "Test sample 0.0 predicted [0.]\n",
      "Test sample 0.0 predicted [0.]\n",
      "Test sample 1.0 predicted [0.]\n",
      "Test sample 0.0 predicted [0.]\n",
      "Test sample 1.0 predicted [1.]\n",
      "Test sample 0.0 predicted [0.]\n",
      "Test sample 1.0 predicted [1.]\n",
      "Test sample 0.0 predicted [0.]\n",
      "Test sample 1.0 predicted [0.]\n",
      "Test sample 1.0 predicted [1.]\n",
      "Test sample 1.0 predicted [1.]\n",
      "Test sample 0.0 predicted [0.]\n",
      "Test sample 0.0 predicted [0.]\n",
      "Test sample 1.0 predicted [1.]\n",
      "Test sample 0.0 predicted [0.]\n",
      "Test sample 1.0 predicted [1.]\n",
      "Test sample 1.0 predicted [1.]\n",
      "Test sample 1.0 predicted [0.]\n",
      "Test sample 0.0 predicted [0.]\n",
      "Test sample 1.0 predicted [1.]\n",
      "Test sample 1.0 predicted [1.]\n",
      "Test sample 1.0 predicted [0.]\n",
      "Test sample 1.0 predicted [1.]\n",
      "Test sample 1.0 predicted [1.]\n",
      "Test sample 1.0 predicted [0.]\n"
     ]
    }
   ],
   "source": [
    "# Once the network is trained, it can be evaluated. \n",
    "network.evaluate(x=test_data, y=test_labels,\n",
    "                    batch_size=35, verbose=0)\n",
    "\n",
    "# We test the network with the testing data\n",
    "pred_tensor = 1.0*(network.predict(test_data) >0.5)\n",
    "\n",
    "#We print a classification to evaluate the results obtained with the testing data\n",
    "print(classification_report(test_labels,pred_tensor))\n",
    "\n",
    "#We print the results obtained\n",
    "for i in range(len(pred_tensor)):\n",
    "    print(\"Test sample\",test_labels[i],\"predicted\", pred_tensor[i])"
   ]
  },
  {
   "cell_type": "markdown",
   "metadata": {},
   "source": [
    "## Results and Discussion\n",
    "### Results"
   ]
  },
  {
   "cell_type": "code",
   "execution_count": 21,
   "metadata": {},
   "outputs": [
    {
     "data": {
      "image/png": "[encoded data removed]",
      "text/plain": [
       "<Figure size 432x288 with 1 Axes>"
      ]
     },
     "metadata": {
      "needs_background": "light"
     },
     "output_type": "display_data"
    },
    {
     "data": {
      "image/png": "[encoded data removed]",
      "text/plain": [
       "<Figure size 432x288 with 1 Axes>"
      ]
     },
     "metadata": {
      "needs_background": "light"
     },
     "output_type": "display_data"
    }
   ],
   "source": [
    "# Plot training & validation accuracy values\n",
    "plt.plot(history.history['accuracy'])\n",
    "plt.plot(history.history['val_accuracy'])\n",
    "plt.title('Model accuracy')\n",
    "plt.ylabel('Accuracy')\n",
    "plt.xlabel('Epoch')\n",
    "plt.legend(['Train', 'Validate'], loc='upper left')\n",
    "plt.show()\n",
    "\n",
    "# Plot training & validation loss values\n",
    "plt.plot(history.history['loss'])\n",
    "plt.plot(history.history['val_loss'])\n",
    "plt.title('Model loss')\n",
    "plt.ylabel('Loss')\n",
    "plt.xlabel('Epoch')\n",
    "plt.legend(['Train', 'Validate'], loc='upper left')\n",
    "plt.show()"
   ]
  },
  {
   "cell_type": "markdown",
   "metadata": {},
   "source": [
    "After training the model with train set and validate with validation set, our model achieved an accuracy on training and validation data of 82% and 78% respectively. However it achieved 36%  and 40% of loss respectively. The loss is quite low which means the quality of predicted value is quite well(quite near to target value)."
   ]
  },
  {
   "cell_type": "markdown",
   "metadata": {},
   "source": [
    "### Discussion"
   ]
  },
  {
   "cell_type": "markdown",
   "metadata": {},
   "source": [
    "After validating the test data, it is safe to say that our model performs quite well: on this set of data, it doesn't seem to produce too much overfitting, and the accuracy that we can get is quite good (78%).\n",
    "\n",
    "If we dig a little bit more, we can observe that although our model is more accurate with the positive cases (sick), it's a bit more sensitive when it comes to be able to say that the case is healthy, than to detect if the patient is sick or not knowing that the model say that then the patient is sick.\n",
    "\n",
    "According to this data that we are obtaining with this model, we will recommend to do the test a second time (or to see a doctor) if the test returns that the patient is sick, to check if it's true or not."
   ]
  },
  {
   "cell_type": "markdown",
   "metadata": {},
   "source": [
    "## Conclusions\n",
    "In this notebook, we have learned to build binary classification model using the deep learning framework, Keras. This notebook used the heart disease dataset and built a binary classifier algorithm to predict heart disease.\n",
    "\n",
    "Our model is achieving a decent accuracy of 81% and 78% on training and test data, respectively. We see that the accuracy decreases for the test data set, but that is often the case while working with hold out validation approach.\n",
    "\n",
    "The goal of this exercise was to be able to provide a model with the best ratio performances/complexity capable to predict whether a patient is having heart disease.\n",
    "\n",
    "After understanding how a neural network works, important parameters and how to set them correctly, we have built a simple model of 1 layer and 10 neurons.The results obtained were quite satisfying (78%) and analyzed how to exploit this model in a medical perspective."
   ]
  }
 ],
 "metadata": {
  "kernelspec": {
   "display_name": "Python 3",
   "language": "python",
   "name": "python3"
  },
  "language_info": {
   "codemirror_mode": {
    "name": "ipython",
    "version": 3
   },
   "file_extension": ".py",
   "mimetype": "text/x-python",
   "name": "python",
   "nbconvert_exporter": "python",
   "pygments_lexer": "ipython3",
   "version": "3.7.4"
  }
 },
 "nbformat": 4,
 "nbformat_minor": 2
}
