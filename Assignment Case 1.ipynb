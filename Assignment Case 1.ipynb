{
 "cells": [
  {
   "cell_type": "markdown",
   "metadata": {},
   "source": [
    "# Case 1: Heart Disease Classification\n",
    "Neural Networks for Health Technology Applications, Spring 2020 <br>\n",
    "Team members:\n",
    "    1. Bellarina Chew\n",
    "    2. Nik Adam Nik Joharris\n",
    "    3. Valentin Dassin\n",
    "Last modified: 30.01.2020<br>\n",
    "Helsinki Metropolia University of Applied Sciences"
   ]
  },
  {
   "cell_type": "markdown",
   "metadata": {},
   "source": [
    "## Background\n",
    "The main objective is to create and train a dense neural network to predict to classify the presence of heart disease accurately.<br> \n",
    "To achieve the main objective, the sub-objectives must be achieved. They include:\n",
    "- Building binary classification models using the deep learning framework, Keras.\n",
    "- Achieving a decent accuracy on training and test data.\n",
    "- Achieving a stable model performance."
   ]
  },
  {
   "cell_type": "markdown",
   "metadata": {},
   "source": [
    "## Data\n",
    "The dataset used is a processed heart disease dataset from Cleveland Clinic Foundation (processed.cleveland.data) which contains 14 variables/attributes as described below:\n",
    "0. **age**      : Age in years     \n",
    "1. **sex**      : sex (1 = male; 0 = female)\n",
    "2. **cp**       : chest pain type (1 = typical angina; 2 = atypicaal angina; 3 = non-anginal pain; 4 = asymptomatic)\n",
    "3. **trestbps** : resting blood pressure in mm Hg\n",
    "4. **chol**     : serum cholestoral in mg/dl\n",
    "5. **fbs**      : fasting blood sugar > 120 mg/dl (1 = true; 0 = false)\n",
    "6. **restecg**  : resting electrocardiographic results (0= normal; 1 = having ST-T wave abnormality; 2 = showing probable or definite left ventricular hypertrophy)\n",
    "7. **thalach**  : maximum heart rate achieved\n",
    "8. **exang**    : exercise induced angina (1 = yes; 0 = no)\n",
    "9. **oldpeak**  : ST depression induced by exercise relative to rest\n",
    "10. **slope**   : the slope of the peak exercise ST segment (1 = upsloping; 2 = flat; 3 = downsloping)\n",
    "11. **ca**      : number of major vessels (0-3) colored by flourosopy\n",
    "12. **thal**    : 3 = normal; 6 = fixed defect; 7 = reversable defect\n",
    "13. **num**     : diagnosis of heart disease (angiographic disease status)"
   ]
  },
  {
   "cell_type": "code",
   "execution_count": 122,
   "metadata": {},
   "outputs": [
    {
     "name": "stdout",
     "output_type": "stream",
     "text": [
      "Populating the interactive namespace from numpy and matplotlib\n"
     ]
    }
   ],
   "source": [
    "# Preprocess data-set\n",
    "# Import important libraries\n",
    "%pylab inline\n",
    "import pandas as pd\n",
    "import matplotlib.pyplot as plt\n",
    "\n",
    "# Import necessary modules\n",
    "from sklearn.model_selection import train_test_split\n",
    "from sklearn.metrics import *\n",
    "from sklearn import preprocessing\n",
    "\n",
    "# Import Keras specific\n",
    "from tensorflow.keras.models import Sequential\n",
    "from tensorflow.keras.layers import Dense"
   ]
  },
  {
   "cell_type": "code",
   "execution_count": 133,
   "metadata": {
    "scrolled": false
   },
   "outputs": [
    {
     "name": "stdout",
     "output_type": "stream",
     "text": [
      "(303, 14)\n"
     ]
    },
    {
     "data": {
      "text/html": [
       "<div>\n",
       "<style scoped>\n",
       "    .dataframe tbody tr th:only-of-type {\n",
       "        vertical-align: middle;\n",
       "    }\n",
       "\n",
       "    .dataframe tbody tr th {\n",
       "        vertical-align: top;\n",
       "    }\n",
       "\n",
       "    .dataframe thead th {\n",
       "        text-align: right;\n",
       "    }\n",
       "</style>\n",
       "<table border=\"1\" class=\"dataframe\">\n",
       "  <thead>\n",
       "    <tr style=\"text-align: right;\">\n",
       "      <th></th>\n",
       "      <th>0</th>\n",
       "      <th>1</th>\n",
       "      <th>2</th>\n",
       "      <th>3</th>\n",
       "      <th>4</th>\n",
       "      <th>5</th>\n",
       "      <th>6</th>\n",
       "      <th>7</th>\n",
       "      <th>8</th>\n",
       "      <th>9</th>\n",
       "      <th>10</th>\n",
       "      <th>11</th>\n",
       "      <th>12</th>\n",
       "      <th>13</th>\n",
       "    </tr>\n",
       "  </thead>\n",
       "  <tbody>\n",
       "    <tr>\n",
       "      <td>count</td>\n",
       "      <td>303.000000</td>\n",
       "      <td>303.000000</td>\n",
       "      <td>303.000000</td>\n",
       "      <td>303.000000</td>\n",
       "      <td>303.000000</td>\n",
       "      <td>303.000000</td>\n",
       "      <td>303.000000</td>\n",
       "      <td>303.000000</td>\n",
       "      <td>303.000000</td>\n",
       "      <td>303.000000</td>\n",
       "      <td>303.000000</td>\n",
       "      <td>299.000000</td>\n",
       "      <td>301.000000</td>\n",
       "      <td>303.000000</td>\n",
       "    </tr>\n",
       "    <tr>\n",
       "      <td>mean</td>\n",
       "      <td>54.438944</td>\n",
       "      <td>0.679868</td>\n",
       "      <td>3.158416</td>\n",
       "      <td>131.689769</td>\n",
       "      <td>246.693069</td>\n",
       "      <td>0.148515</td>\n",
       "      <td>0.990099</td>\n",
       "      <td>149.607261</td>\n",
       "      <td>0.326733</td>\n",
       "      <td>1.039604</td>\n",
       "      <td>1.600660</td>\n",
       "      <td>0.672241</td>\n",
       "      <td>4.734219</td>\n",
       "      <td>0.937294</td>\n",
       "    </tr>\n",
       "    <tr>\n",
       "      <td>std</td>\n",
       "      <td>9.038662</td>\n",
       "      <td>0.467299</td>\n",
       "      <td>0.960126</td>\n",
       "      <td>17.599748</td>\n",
       "      <td>51.776918</td>\n",
       "      <td>0.356198</td>\n",
       "      <td>0.994971</td>\n",
       "      <td>22.875003</td>\n",
       "      <td>0.469794</td>\n",
       "      <td>1.161075</td>\n",
       "      <td>0.616226</td>\n",
       "      <td>0.937438</td>\n",
       "      <td>1.939706</td>\n",
       "      <td>1.228536</td>\n",
       "    </tr>\n",
       "    <tr>\n",
       "      <td>min</td>\n",
       "      <td>29.000000</td>\n",
       "      <td>0.000000</td>\n",
       "      <td>1.000000</td>\n",
       "      <td>94.000000</td>\n",
       "      <td>126.000000</td>\n",
       "      <td>0.000000</td>\n",
       "      <td>0.000000</td>\n",
       "      <td>71.000000</td>\n",
       "      <td>0.000000</td>\n",
       "      <td>0.000000</td>\n",
       "      <td>1.000000</td>\n",
       "      <td>0.000000</td>\n",
       "      <td>3.000000</td>\n",
       "      <td>0.000000</td>\n",
       "    </tr>\n",
       "    <tr>\n",
       "      <td>25%</td>\n",
       "      <td>48.000000</td>\n",
       "      <td>0.000000</td>\n",
       "      <td>3.000000</td>\n",
       "      <td>120.000000</td>\n",
       "      <td>211.000000</td>\n",
       "      <td>0.000000</td>\n",
       "      <td>0.000000</td>\n",
       "      <td>133.500000</td>\n",
       "      <td>0.000000</td>\n",
       "      <td>0.000000</td>\n",
       "      <td>1.000000</td>\n",
       "      <td>0.000000</td>\n",
       "      <td>3.000000</td>\n",
       "      <td>0.000000</td>\n",
       "    </tr>\n",
       "    <tr>\n",
       "      <td>50%</td>\n",
       "      <td>56.000000</td>\n",
       "      <td>1.000000</td>\n",
       "      <td>3.000000</td>\n",
       "      <td>130.000000</td>\n",
       "      <td>241.000000</td>\n",
       "      <td>0.000000</td>\n",
       "      <td>1.000000</td>\n",
       "      <td>153.000000</td>\n",
       "      <td>0.000000</td>\n",
       "      <td>0.800000</td>\n",
       "      <td>2.000000</td>\n",
       "      <td>0.000000</td>\n",
       "      <td>3.000000</td>\n",
       "      <td>0.000000</td>\n",
       "    </tr>\n",
       "    <tr>\n",
       "      <td>75%</td>\n",
       "      <td>61.000000</td>\n",
       "      <td>1.000000</td>\n",
       "      <td>4.000000</td>\n",
       "      <td>140.000000</td>\n",
       "      <td>275.000000</td>\n",
       "      <td>0.000000</td>\n",
       "      <td>2.000000</td>\n",
       "      <td>166.000000</td>\n",
       "      <td>1.000000</td>\n",
       "      <td>1.600000</td>\n",
       "      <td>2.000000</td>\n",
       "      <td>1.000000</td>\n",
       "      <td>7.000000</td>\n",
       "      <td>2.000000</td>\n",
       "    </tr>\n",
       "    <tr>\n",
       "      <td>max</td>\n",
       "      <td>77.000000</td>\n",
       "      <td>1.000000</td>\n",
       "      <td>4.000000</td>\n",
       "      <td>200.000000</td>\n",
       "      <td>564.000000</td>\n",
       "      <td>1.000000</td>\n",
       "      <td>2.000000</td>\n",
       "      <td>202.000000</td>\n",
       "      <td>1.000000</td>\n",
       "      <td>6.200000</td>\n",
       "      <td>3.000000</td>\n",
       "      <td>3.000000</td>\n",
       "      <td>7.000000</td>\n",
       "      <td>4.000000</td>\n",
       "    </tr>\n",
       "  </tbody>\n",
       "</table>\n",
       "</div>"
      ],
      "text/plain": [
       "               0           1           2           3           4           5   \\\n",
       "count  303.000000  303.000000  303.000000  303.000000  303.000000  303.000000   \n",
       "mean    54.438944    0.679868    3.158416  131.689769  246.693069    0.148515   \n",
       "std      9.038662    0.467299    0.960126   17.599748   51.776918    0.356198   \n",
       "min     29.000000    0.000000    1.000000   94.000000  126.000000    0.000000   \n",
       "25%     48.000000    0.000000    3.000000  120.000000  211.000000    0.000000   \n",
       "50%     56.000000    1.000000    3.000000  130.000000  241.000000    0.000000   \n",
       "75%     61.000000    1.000000    4.000000  140.000000  275.000000    0.000000   \n",
       "max     77.000000    1.000000    4.000000  200.000000  564.000000    1.000000   \n",
       "\n",
       "               6           7           8           9           10          11  \\\n",
       "count  303.000000  303.000000  303.000000  303.000000  303.000000  299.000000   \n",
       "mean     0.990099  149.607261    0.326733    1.039604    1.600660    0.672241   \n",
       "std      0.994971   22.875003    0.469794    1.161075    0.616226    0.937438   \n",
       "min      0.000000   71.000000    0.000000    0.000000    1.000000    0.000000   \n",
       "25%      0.000000  133.500000    0.000000    0.000000    1.000000    0.000000   \n",
       "50%      1.000000  153.000000    0.000000    0.800000    2.000000    0.000000   \n",
       "75%      2.000000  166.000000    1.000000    1.600000    2.000000    1.000000   \n",
       "max      2.000000  202.000000    1.000000    6.200000    3.000000    3.000000   \n",
       "\n",
       "               12          13  \n",
       "count  301.000000  303.000000  \n",
       "mean     4.734219    0.937294  \n",
       "std      1.939706    1.228536  \n",
       "min      3.000000    0.000000  \n",
       "25%      3.000000    0.000000  \n",
       "50%      3.000000    0.000000  \n",
       "75%      7.000000    2.000000  \n",
       "max      7.000000    4.000000  "
      ]
     },
     "execution_count": 133,
     "metadata": {},
     "output_type": "execute_result"
    }
   ],
   "source": [
    "# Import dataset\n",
    "filename = \"/Users/bella/Desktop/year 3/Neural Network/processed.cleveland.data\"\n",
    "df = pd.read_csv(filename,\n",
    "                index_col = None,\n",
    "                header = None,\n",
    "                na_values ='?')\n",
    "\n",
    "# print data shape\n",
    "print(df.shape)\n",
    "df.describe()"
   ]
  },
  {
   "cell_type": "markdown",
   "metadata": {},
   "source": [
    "The dataset used contains 303 observations and 14 variables/attributes. However, there are missing values in attribute 11(ca) and 12 (thal). As a result, missing values is handled for a more accurate result. In this case, the best method to handle missing values is to drop rows with missing values.\n"
   ]
  },
  {
   "cell_type": "code",
   "execution_count": 134,
   "metadata": {},
   "outputs": [
    {
     "name": "stdout",
     "output_type": "stream",
     "text": [
      "(297, 14)\n"
     ]
    }
   ],
   "source": [
    "# Check out missing value \n",
    "# drop rows with missing values\n",
    "df= df.dropna()\n",
    "\n",
    "#prints data shape\n",
    "print(df.shape)"
   ]
  },
  {
   "cell_type": "markdown",
   "metadata": {},
   "source": [
    "After removing rows with missing values, the size became 297."
   ]
  },
  {
   "cell_type": "markdown",
   "metadata": {},
   "source": [
    "## Models and training\n",
    "Arrays are created for the Features and the Response Variable."
   ]
  },
  {
   "cell_type": "code",
   "execution_count": 103,
   "metadata": {},
   "outputs": [],
   "source": [
    "# Create an array of the target variable from 0 to 12\n",
    "data = df.loc[:, 0:12].values\n",
    "\n",
    "# Create an array for the predicted attribute\n",
    "# simplify the labels into two classes (healthy (=0) and disease (=1)) \n",
    "labels = 1.0 * (df.loc[:, 13].values > 0)"
   ]
  },
  {
   "cell_type": "code",
   "execution_count": 127,
   "metadata": {},
   "outputs": [
    {
     "data": {
      "text/plain": [
       "((148, 13), (74, 13), (74, 13))"
      ]
     },
     "execution_count": 127,
     "metadata": {},
     "output_type": "execute_result"
    }
   ],
   "source": [
    "# Split data-set into Training, validation and Test Set\n",
    "train_data = data[:148]\n",
    "train_labels = labels[:148]\n",
    "\n",
    "validation_data = data[149:223]\n",
    "validation_labels = labels[149:223]\n",
    "\n",
    "# The test data (25% of the data) is separated to be used once the model is completed\n",
    "test_data = data[223:]\n",
    "test_labels = labels[223:] \n",
    "\n",
    "# print shape of training set and test set\n",
    "train_data.shape, validation_data.shape, test_data.shape"
   ]
  },
  {
   "cell_type": "markdown",
   "metadata": {},
   "source": [
    "The model is trained with 75% of the data and evaluated with 25%<br>\n",
    "After splitting the data-set into Training, Validation and Test set, the shape of the training set are as follow:\n",
    "- Training set : 150 observations of 13 variables\n",
    "- Validation set : 74 observations of 13 variables.\n",
    "- Test set : 74 observations of 13 variables. "
   ]
  },
  {
   "cell_type": "code",
   "execution_count": 128,
   "metadata": {},
   "outputs": [],
   "source": [
    "# Rescale data by normalizing\n",
    "train_data = preprocessing.scale(train_data)\n",
    "validation_data = preprocessing.scale(validation_data)\n",
    "test_data = preprocessing.scale(test_data)"
   ]
  },
  {
   "cell_type": "markdown",
   "metadata": {},
   "source": [
    "All the variables don’t have the same scale and this will cause some issue in the machine learning model. So, **Feature scaling** is used to limit the range of variables so that they can be compared on common grounds. The best method in this case is with Normaliztion as it helps to have muutch better results in fewer epochs and remove a lot of noise"
   ]
  },
  {
   "cell_type": "code",
   "execution_count": 129,
   "metadata": {},
   "outputs": [
    {
     "name": "stdout",
     "output_type": "stream",
     "text": [
      "Model: \"sequential_22\"\n",
      "_________________________________________________________________\n",
      "Layer (type)                 Output Shape              Param #   \n",
      "=================================================================\n",
      "dense_60 (Dense)             (None, 10)                140       \n",
      "_________________________________________________________________\n",
      "dense_61 (Dense)             (None, 1)                 11        \n",
      "=================================================================\n",
      "Total params: 151\n",
      "Trainable params: 151\n",
      "Non-trainable params: 0\n",
      "_________________________________________________________________\n"
     ]
    }
   ],
   "source": [
    "#construct a network model \n",
    "network = Sequential()\n",
    "\n",
    "network.add(Dense(10, input_shape=(13,), activation='relu'))\n",
    "network.add(Dense(1, activation='sigmoid'))\n",
    "network.summary()"
   ]
  },
  {
   "cell_type": "markdown",
   "metadata": {},
   "source": [
    "This model have 1 layer and 10 neurons (good ratio performances/complexyty and not too long to train).\n",
    "The activation function used in the hidden layers is a rectified linear unit, or ReLU. It is the most widely used activation function because of its advantages of being nonlinear, as well as the ability to not activate all the neurons at the same time. In simple terms, this means that at a time, only a few neurons are activated, making the network sparse and very efficient."
   ]
  },
  {
   "cell_type": "code",
   "execution_count": 130,
   "metadata": {},
   "outputs": [],
   "source": [
    "# Compile the model\n",
    "network.compile(loss='binary_crossentropy',\n",
    "              optimizer='adam',\n",
    "              metrics=['accuracy'])"
   ]
  },
  {
   "cell_type": "markdown",
   "metadata": {},
   "source": [
    "The batch size is an important factor, usually it's quite good arround 32:\n",
    "- If it is below 32, performances needs a lot of epochs before it achieves the ideal result. \n",
    "- If it is above 32, performances will improve quickly but we have big overfitting.\n",
    "\n",
    "While to plot for the accuracy and loss, it depends on the batch size which allows us to see how quikly a model is improving.\n",
    "**The goal is** to have good performances without having to set a big batch size\n"
   ]
  },
  {
   "cell_type": "code",
   "execution_count": 132,
   "metadata": {},
   "outputs": [
    {
     "name": "stdout",
     "output_type": "stream",
     "text": [
      "Train on 148 samples, validate on 74 samples\n",
      "Epoch 1/30\n",
      "148/148 [==============================] - 0s 806us/sample - loss: 0.4311 - accuracy: 0.8108 - val_loss: 0.5595 - val_accuracy: 0.6757\n",
      "Epoch 2/30\n",
      "148/148 [==============================] - 0s 674us/sample - loss: 0.4247 - accuracy: 0.8108 - val_loss: 0.5549 - val_accuracy: 0.6892\n",
      "Epoch 3/30\n",
      "148/148 [==============================] - 0s 561us/sample - loss: 0.4190 - accuracy: 0.8176 - val_loss: 0.5506 - val_accuracy: 0.7027\n",
      "Epoch 4/30\n",
      "148/148 [==============================] - 0s 569us/sample - loss: 0.4129 - accuracy: 0.8243 - val_loss: 0.5468 - val_accuracy: 0.7027\n",
      "Epoch 5/30\n",
      "148/148 [==============================] - 0s 677us/sample - loss: 0.4074 - accuracy: 0.8243 - val_loss: 0.5431 - val_accuracy: 0.7162\n",
      "Epoch 6/30\n",
      "148/148 [==============================] - 0s 632us/sample - loss: 0.4022 - accuracy: 0.8311 - val_loss: 0.5398 - val_accuracy: 0.7162\n",
      "Epoch 7/30\n",
      "148/148 [==============================] - 0s 595us/sample - loss: 0.3970 - accuracy: 0.8378 - val_loss: 0.5365 - val_accuracy: 0.7162\n",
      "Epoch 8/30\n",
      "148/148 [==============================] - 0s 778us/sample - loss: 0.3925 - accuracy: 0.8378 - val_loss: 0.5335 - val_accuracy: 0.7297\n",
      "Epoch 9/30\n",
      "148/148 [==============================] - 0s 699us/sample - loss: 0.3879 - accuracy: 0.8311 - val_loss: 0.5306 - val_accuracy: 0.7297\n",
      "Epoch 10/30\n",
      "148/148 [==============================] - 0s 565us/sample - loss: 0.3833 - accuracy: 0.8311 - val_loss: 0.5283 - val_accuracy: 0.7162\n",
      "Epoch 11/30\n",
      "148/148 [==============================] - 0s 2ms/sample - loss: 0.3793 - accuracy: 0.8311 - val_loss: 0.5262 - val_accuracy: 0.7162\n",
      "Epoch 12/30\n",
      "148/148 [==============================] - 0s 2ms/sample - loss: 0.3753 - accuracy: 0.8378 - val_loss: 0.5240 - val_accuracy: 0.7162\n",
      "Epoch 13/30\n",
      "148/148 [==============================] - 0s 648us/sample - loss: 0.3718 - accuracy: 0.8378 - val_loss: 0.5221 - val_accuracy: 0.7162\n",
      "Epoch 14/30\n",
      "148/148 [==============================] - 0s 560us/sample - loss: 0.3682 - accuracy: 0.8378 - val_loss: 0.5204 - val_accuracy: 0.7162\n",
      "Epoch 15/30\n",
      "148/148 [==============================] - 0s 716us/sample - loss: 0.3651 - accuracy: 0.8378 - val_loss: 0.5189 - val_accuracy: 0.7162\n",
      "Epoch 16/30\n",
      "148/148 [==============================] - 0s 682us/sample - loss: 0.3619 - accuracy: 0.8378 - val_loss: 0.5175 - val_accuracy: 0.7162\n",
      "Epoch 17/30\n",
      "148/148 [==============================] - 0s 689us/sample - loss: 0.3589 - accuracy: 0.8378 - val_loss: 0.5162 - val_accuracy: 0.7162\n",
      "Epoch 18/30\n",
      "148/148 [==============================] - 0s 560us/sample - loss: 0.3561 - accuracy: 0.8378 - val_loss: 0.5150 - val_accuracy: 0.7432\n",
      "Epoch 19/30\n",
      "148/148 [==============================] - 0s 628us/sample - loss: 0.3531 - accuracy: 0.8378 - val_loss: 0.5140 - val_accuracy: 0.7432\n",
      "Epoch 20/30\n",
      "148/148 [==============================] - 0s 628us/sample - loss: 0.3503 - accuracy: 0.8378 - val_loss: 0.5129 - val_accuracy: 0.7432\n",
      "Epoch 21/30\n",
      "148/148 [==============================] - 0s 655us/sample - loss: 0.3475 - accuracy: 0.8378 - val_loss: 0.5121 - val_accuracy: 0.7432\n",
      "Epoch 22/30\n",
      "148/148 [==============================] - 0s 662us/sample - loss: 0.3451 - accuracy: 0.8311 - val_loss: 0.5114 - val_accuracy: 0.7568\n",
      "Epoch 23/30\n",
      "148/148 [==============================] - 0s 608us/sample - loss: 0.3425 - accuracy: 0.8311 - val_loss: 0.5110 - val_accuracy: 0.7568\n",
      "Epoch 24/30\n",
      "148/148 [==============================] - 0s 621us/sample - loss: 0.3396 - accuracy: 0.8311 - val_loss: 0.5105 - val_accuracy: 0.7568\n",
      "Epoch 25/30\n",
      "148/148 [==============================] - 0s 729us/sample - loss: 0.3374 - accuracy: 0.8311 - val_loss: 0.5096 - val_accuracy: 0.7568\n",
      "Epoch 26/30\n",
      "148/148 [==============================] - 0s 628us/sample - loss: 0.3350 - accuracy: 0.8311 - val_loss: 0.5089 - val_accuracy: 0.7568\n",
      "Epoch 27/30\n",
      "148/148 [==============================] - 0s 682us/sample - loss: 0.3328 - accuracy: 0.8311 - val_loss: 0.5084 - val_accuracy: 0.7568\n",
      "Epoch 28/30\n",
      "148/148 [==============================] - 0s 1ms/sample - loss: 0.3305 - accuracy: 0.8378 - val_loss: 0.5080 - val_accuracy: 0.7568\n",
      "Epoch 29/30\n",
      "148/148 [==============================] - 0s 2ms/sample - loss: 0.3286 - accuracy: 0.8446 - val_loss: 0.5075 - val_accuracy: 0.7568\n",
      "Epoch 30/30\n",
      "148/148 [==============================] - 0s 1ms/sample - loss: 0.3262 - accuracy: 0.8514 - val_loss: 0.5072 - val_accuracy: 0.7568\n"
     ]
    },
    {
     "data": {
      "image/png": "[encoded data removed]",
      "text/plain": [
       "<Figure size 432x288 with 1 Axes>"
      ]
     },
     "metadata": {
      "needs_background": "light"
     },
     "output_type": "display_data"
    },
    {
     "data": {
      "image/png": "[encoded data removed]",
      "text/plain": [
       "<Figure size 432x288 with 1 Axes>"
      ]
     },
     "metadata": {
      "needs_background": "light"
     },
     "output_type": "display_data"
    }
   ],
   "source": [
    "# fit model on the training data-set\n",
    "history = network.fit(train_data, train_labels,\n",
    "                    epochs=30, batch_size=35, verbose=1,\n",
    "                    validation_data = (validation_data, validation_labels))\n",
    "\n",
    "# Plot training & validation accuracy values\n",
    "plt.plot(history.history['accuracy'])\n",
    "plt.plot(history.history['val_accuracy'])\n",
    "plt.title('Model accuracy')\n",
    "plt.ylabel('Accuracy')\n",
    "plt.xlabel('Epoch')\n",
    "plt.legend(['Train', 'Test'], loc='upper left')\n",
    "plt.show()\n",
    "\n",
    "# Plot training & validation loss values\n",
    "plt.plot(history.history['loss'])\n",
    "plt.plot(history.history['val_loss'])\n",
    "plt.title('Model loss')\n",
    "plt.ylabel('Loss')\n",
    "plt.xlabel('Epoch')\n",
    "plt.legend(['Train', 'Test'], loc='upper left')\n",
    "plt.show()"
   ]
  },
  {
   "cell_type": "markdown",
   "metadata": {},
   "source": [
    "# Results\n",
    "Main results shown both graphically and explained textually "
   ]
  },
  {
   "cell_type": "markdown",
   "metadata": {},
   "source": [
    "# Conclusion\n",
    "What were the main observations and how well the objectives were achieved"
   ]
  },
  {
   "cell_type": "code",
   "execution_count": null,
   "metadata": {},
   "outputs": [],
   "source": []
  }
 ],
 "metadata": {
  "kernelspec": {
   "display_name": "Python 3",
   "language": "python",
   "name": "python3"
  },
  "language_info": {
   "codemirror_mode": {
    "name": "ipython",
    "version": 3
   },
   "file_extension": ".py",
   "mimetype": "text/x-python",
   "name": "python",
   "nbconvert_exporter": "python",
   "pygments_lexer": "ipython3",
   "version": "3.7.4"
  }
 },
 "nbformat": 4,
 "nbformat_minor": 2
}
