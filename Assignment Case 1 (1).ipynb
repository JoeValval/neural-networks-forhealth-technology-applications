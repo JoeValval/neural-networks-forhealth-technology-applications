{
 "cells": [
  {
   "cell_type": "markdown",
   "metadata": {},
   "source": [
    "# Case 1: Heart Disease Classification\n",
    "Neural Networks for Health Technology Applications, Spring 2020 <br>\n",
    "Team members:\n",
    "    1. Bellarina Chew\n",
    "    2. Nik Adam Nik Joharris\n",
    "    3. Valentin Dassin\n",
    "Last modified: 01.02.2020<br>\n",
    "Helsinki Metropolia University of Applied Sciences"
   ]
  },
  {
   "cell_type": "markdown",
   "metadata": {},
   "source": [
    "## 1.0 Background\n",
    "The main objective is to create and train a dense neural network to predict and classify the presence of heart disease accurately with the simplest, fastest and smallest possible model.<br> \n",
    "\n",
    "The sub objectives include:\n",
    "- Building binary classification models using the deep learning framework, Keras.\n",
    "- Achieving a decent accuracy on train and test data.\n",
    "- Achieving a stable model performance with small batch size"
   ]
  },
  {
   "cell_type": "markdown",
   "metadata": {},
   "source": [
    "## 2.0 Data\n",
    "The dataset used is a processed heart disease dataset from Cleveland Clinic Foundation (processed.cleveland.data) which contains 14 variables/attributes as described below:\n",
    "0. **age**      : Age in years     \n",
    "1. **sex**      : sex (1 = male; 0 = female)\n",
    "2. **cp**       : chest pain type (1 = typical angina; 2 = atypicaal angina; 3 = non-anginal pain; 4 = asymptomatic)\n",
    "3. **trestbps** : resting blood pressure in mm Hg\n",
    "4. **chol**     : serum cholestoral in mg/dl\n",
    "5. **fbs**      : fasting blood sugar > 120 mg/dl (1 = true; 0 = false)\n",
    "6. **restecg**  : resting electrocardiographic results (0= normal; 1 = having ST-T wave abnormality; 2 = showing probable or definite left ventricular hypertrophy)\n",
    "7. **thalach**  : maximum heart rate achieved\n",
    "8. **exang**    : exercise induced angina (1 = yes; 0 = no)\n",
    "9. **oldpeak**  : ST depression induced by exercise relative to rest\n",
    "10. **slope**   : the slope of the peak exercise ST segment (1 = upsloping; 2 = flat; 3 = downsloping)\n",
    "11. **ca**      : number of major vessels (0-3) colored by flourosopy\n",
    "12. **thal**    : 3 = normal; 6 = fixed defect; 7 = reversable defect\n",
    "13. **num**     : diagnosis of heart disease (angiographic disease status)"
   ]
  },
  {
   "cell_type": "code",
   "execution_count": 19,
   "metadata": {},
   "outputs": [
    {
     "name": "stdout",
     "output_type": "stream",
     "text": [
      "Populating the interactive namespace from numpy and matplotlib\n"
     ]
    }
   ],
   "source": [
    "# Preprocess data-set\n",
    "# Import important libraries\n",
    "%pylab inline\n",
    "import pandas as pd\n",
    "import matplotlib.pyplot as plt\n",
    "\n",
    "# Import necessary modules\n",
    "from sklearn.model_selection import train_test_split\n",
    "from sklearn.model_selection import KFold\n",
    "from sklearn.metrics import *\n",
    "from sklearn import preprocessing\n",
    "\n",
    "# Import Keras specific\n",
    "from tensorflow.keras.models import Sequential\n",
    "from tensorflow.keras.layers import Dense"
   ]
  },
  {
   "cell_type": "code",
   "execution_count": 20,
   "metadata": {
    "scrolled": false
   },
   "outputs": [
    {
     "name": "stdout",
     "output_type": "stream",
     "text": [
      "(303, 14)\n"
     ]
    },
    {
     "data": {
      "text/html": [
       "<div>\n",
       "<style scoped>\n",
       "    .dataframe tbody tr th:only-of-type {\n",
       "        vertical-align: middle;\n",
       "    }\n",
       "\n",
       "    .dataframe tbody tr th {\n",
       "        vertical-align: top;\n",
       "    }\n",
       "\n",
       "    .dataframe thead th {\n",
       "        text-align: right;\n",
       "    }\n",
       "</style>\n",
       "<table border=\"1\" class=\"dataframe\">\n",
       "  <thead>\n",
       "    <tr style=\"text-align: right;\">\n",
       "      <th></th>\n",
       "      <th>0</th>\n",
       "      <th>1</th>\n",
       "      <th>2</th>\n",
       "      <th>3</th>\n",
       "      <th>4</th>\n",
       "      <th>5</th>\n",
       "      <th>6</th>\n",
       "      <th>7</th>\n",
       "      <th>8</th>\n",
       "      <th>9</th>\n",
       "      <th>10</th>\n",
       "      <th>11</th>\n",
       "      <th>12</th>\n",
       "      <th>13</th>\n",
       "    </tr>\n",
       "  </thead>\n",
       "  <tbody>\n",
       "    <tr>\n",
       "      <td>count</td>\n",
       "      <td>303.000000</td>\n",
       "      <td>303.000000</td>\n",
       "      <td>303.000000</td>\n",
       "      <td>303.000000</td>\n",
       "      <td>303.000000</td>\n",
       "      <td>303.000000</td>\n",
       "      <td>303.000000</td>\n",
       "      <td>303.000000</td>\n",
       "      <td>303.000000</td>\n",
       "      <td>303.000000</td>\n",
       "      <td>303.000000</td>\n",
       "      <td>299.000000</td>\n",
       "      <td>301.000000</td>\n",
       "      <td>303.000000</td>\n",
       "    </tr>\n",
       "    <tr>\n",
       "      <td>mean</td>\n",
       "      <td>54.438944</td>\n",
       "      <td>0.679868</td>\n",
       "      <td>3.158416</td>\n",
       "      <td>131.689769</td>\n",
       "      <td>246.693069</td>\n",
       "      <td>0.148515</td>\n",
       "      <td>0.990099</td>\n",
       "      <td>149.607261</td>\n",
       "      <td>0.326733</td>\n",
       "      <td>1.039604</td>\n",
       "      <td>1.600660</td>\n",
       "      <td>0.672241</td>\n",
       "      <td>4.734219</td>\n",
       "      <td>0.937294</td>\n",
       "    </tr>\n",
       "    <tr>\n",
       "      <td>std</td>\n",
       "      <td>9.038662</td>\n",
       "      <td>0.467299</td>\n",
       "      <td>0.960126</td>\n",
       "      <td>17.599748</td>\n",
       "      <td>51.776918</td>\n",
       "      <td>0.356198</td>\n",
       "      <td>0.994971</td>\n",
       "      <td>22.875003</td>\n",
       "      <td>0.469794</td>\n",
       "      <td>1.161075</td>\n",
       "      <td>0.616226</td>\n",
       "      <td>0.937438</td>\n",
       "      <td>1.939706</td>\n",
       "      <td>1.228536</td>\n",
       "    </tr>\n",
       "    <tr>\n",
       "      <td>min</td>\n",
       "      <td>29.000000</td>\n",
       "      <td>0.000000</td>\n",
       "      <td>1.000000</td>\n",
       "      <td>94.000000</td>\n",
       "      <td>126.000000</td>\n",
       "      <td>0.000000</td>\n",
       "      <td>0.000000</td>\n",
       "      <td>71.000000</td>\n",
       "      <td>0.000000</td>\n",
       "      <td>0.000000</td>\n",
       "      <td>1.000000</td>\n",
       "      <td>0.000000</td>\n",
       "      <td>3.000000</td>\n",
       "      <td>0.000000</td>\n",
       "    </tr>\n",
       "    <tr>\n",
       "      <td>25%</td>\n",
       "      <td>48.000000</td>\n",
       "      <td>0.000000</td>\n",
       "      <td>3.000000</td>\n",
       "      <td>120.000000</td>\n",
       "      <td>211.000000</td>\n",
       "      <td>0.000000</td>\n",
       "      <td>0.000000</td>\n",
       "      <td>133.500000</td>\n",
       "      <td>0.000000</td>\n",
       "      <td>0.000000</td>\n",
       "      <td>1.000000</td>\n",
       "      <td>0.000000</td>\n",
       "      <td>3.000000</td>\n",
       "      <td>0.000000</td>\n",
       "    </tr>\n",
       "    <tr>\n",
       "      <td>50%</td>\n",
       "      <td>56.000000</td>\n",
       "      <td>1.000000</td>\n",
       "      <td>3.000000</td>\n",
       "      <td>130.000000</td>\n",
       "      <td>241.000000</td>\n",
       "      <td>0.000000</td>\n",
       "      <td>1.000000</td>\n",
       "      <td>153.000000</td>\n",
       "      <td>0.000000</td>\n",
       "      <td>0.800000</td>\n",
       "      <td>2.000000</td>\n",
       "      <td>0.000000</td>\n",
       "      <td>3.000000</td>\n",
       "      <td>0.000000</td>\n",
       "    </tr>\n",
       "    <tr>\n",
       "      <td>75%</td>\n",
       "      <td>61.000000</td>\n",
       "      <td>1.000000</td>\n",
       "      <td>4.000000</td>\n",
       "      <td>140.000000</td>\n",
       "      <td>275.000000</td>\n",
       "      <td>0.000000</td>\n",
       "      <td>2.000000</td>\n",
       "      <td>166.000000</td>\n",
       "      <td>1.000000</td>\n",
       "      <td>1.600000</td>\n",
       "      <td>2.000000</td>\n",
       "      <td>1.000000</td>\n",
       "      <td>7.000000</td>\n",
       "      <td>2.000000</td>\n",
       "    </tr>\n",
       "    <tr>\n",
       "      <td>max</td>\n",
       "      <td>77.000000</td>\n",
       "      <td>1.000000</td>\n",
       "      <td>4.000000</td>\n",
       "      <td>200.000000</td>\n",
       "      <td>564.000000</td>\n",
       "      <td>1.000000</td>\n",
       "      <td>2.000000</td>\n",
       "      <td>202.000000</td>\n",
       "      <td>1.000000</td>\n",
       "      <td>6.200000</td>\n",
       "      <td>3.000000</td>\n",
       "      <td>3.000000</td>\n",
       "      <td>7.000000</td>\n",
       "      <td>4.000000</td>\n",
       "    </tr>\n",
       "  </tbody>\n",
       "</table>\n",
       "</div>"
      ],
      "text/plain": [
       "               0           1           2           3           4           5   \\\n",
       "count  303.000000  303.000000  303.000000  303.000000  303.000000  303.000000   \n",
       "mean    54.438944    0.679868    3.158416  131.689769  246.693069    0.148515   \n",
       "std      9.038662    0.467299    0.960126   17.599748   51.776918    0.356198   \n",
       "min     29.000000    0.000000    1.000000   94.000000  126.000000    0.000000   \n",
       "25%     48.000000    0.000000    3.000000  120.000000  211.000000    0.000000   \n",
       "50%     56.000000    1.000000    3.000000  130.000000  241.000000    0.000000   \n",
       "75%     61.000000    1.000000    4.000000  140.000000  275.000000    0.000000   \n",
       "max     77.000000    1.000000    4.000000  200.000000  564.000000    1.000000   \n",
       "\n",
       "               6           7           8           9           10          11  \\\n",
       "count  303.000000  303.000000  303.000000  303.000000  303.000000  299.000000   \n",
       "mean     0.990099  149.607261    0.326733    1.039604    1.600660    0.672241   \n",
       "std      0.994971   22.875003    0.469794    1.161075    0.616226    0.937438   \n",
       "min      0.000000   71.000000    0.000000    0.000000    1.000000    0.000000   \n",
       "25%      0.000000  133.500000    0.000000    0.000000    1.000000    0.000000   \n",
       "50%      1.000000  153.000000    0.000000    0.800000    2.000000    0.000000   \n",
       "75%      2.000000  166.000000    1.000000    1.600000    2.000000    1.000000   \n",
       "max      2.000000  202.000000    1.000000    6.200000    3.000000    3.000000   \n",
       "\n",
       "               12          13  \n",
       "count  301.000000  303.000000  \n",
       "mean     4.734219    0.937294  \n",
       "std      1.939706    1.228536  \n",
       "min      3.000000    0.000000  \n",
       "25%      3.000000    0.000000  \n",
       "50%      3.000000    0.000000  \n",
       "75%      7.000000    2.000000  \n",
       "max      7.000000    4.000000  "
      ]
     },
     "execution_count": 20,
     "metadata": {},
     "output_type": "execute_result"
    }
   ],
   "source": [
    "# Import dataset\n",
    "filename = \"/Users/bella/Desktop/year 3/Neural Network/processed.cleveland.data\"\n",
    "df = pd.read_csv(filename,\n",
    "                index_col = None,\n",
    "                header = None,\n",
    "                na_values ='?')\n",
    "\n",
    "# print data shape\n",
    "print(df.shape)\n",
    "df.describe()"
   ]
  },
  {
   "cell_type": "markdown",
   "metadata": {},
   "source": [
    "The dataset used contains 303 observations and 14 variables/attributes. However, there are missing values in attribute 11(ca) and 12 (thal). As a result, missing values is handled for a more accurate result. In this case, the best method to handle missing values is to drop rows with missing values.\n"
   ]
  },
  {
   "cell_type": "code",
   "execution_count": 21,
   "metadata": {},
   "outputs": [
    {
     "name": "stdout",
     "output_type": "stream",
     "text": [
      "(297, 14)\n"
     ]
    }
   ],
   "source": [
    "# Check out missing value \n",
    "# drop rows with missing values\n",
    "df= df.dropna()\n",
    "\n",
    "#prints data shape\n",
    "print(df.shape)"
   ]
  },
  {
   "cell_type": "markdown",
   "metadata": {},
   "source": [
    "After removing rows with missing values, the size became 297."
   ]
  },
  {
   "cell_type": "markdown",
   "metadata": {},
   "source": [
    "## 3.0 Models and training\n",
    "### 3.1 Model\n",
    "This model is a binary classification model as we are classifying the output into 2 classifications:\n",
    "- healthy (0)\n",
    "- unhealthy (1)\n",
    "\n",
    "Arrays will be created for the Features (input) and the Response Variable (output)."
   ]
  },
  {
   "cell_type": "code",
   "execution_count": 22,
   "metadata": {},
   "outputs": [],
   "source": [
    "# Create an array of the target variable from 0 to 12 (input)\n",
    "data = df.loc[:, 0:12].values\n",
    "\n",
    "# Create an array for the predicted attribute (output)\n",
    "# simplify the labels into two classes (healthy (=0) and disease (=1)) \n",
    "labels = 1.0 * (df.loc[:, 13].values > 0)"
   ]
  },
  {
   "cell_type": "markdown",
   "metadata": {},
   "source": [
    "According to One rule-of-thumb, the entire set is divided as follows: \n",
    "- 60 % training\n",
    "- 20% validation\n",
    "- 20% testing"
   ]
  },
  {
   "cell_type": "code",
   "execution_count": 23,
   "metadata": {},
   "outputs": [
    {
     "data": {
      "text/plain": [
       "((179, 13), (58, 13), (58, 13))"
      ]
     },
     "execution_count": 23,
     "metadata": {},
     "output_type": "execute_result"
    }
   ],
   "source": [
    "# Split data-set into Training, validation and Test Set\n",
    "train_data = data[:179]\n",
    "train_labels = labels[:179]\n",
    "\n",
    "validation_data = data[180:238]\n",
    "validation_labels = labels[180:238]\n",
    "\n",
    "test_data = data[239:]\n",
    "test_labels = labels[239:] \n",
    "\n",
    "# print shape of training set, validation set and test set\n",
    "train_data.shape, validation_data.shape, test_data.shape"
   ]
  },
  {
   "cell_type": "markdown",
   "metadata": {},
   "source": [
    "After splitting the data-set into Training, Validation and Test set, the shape of the training set are as follow:\n",
    "- Training set : 179 observations of 13 variables\n",
    "- Validation set : 58 observations of 13 variables.\n",
    "- Test set : 58 observations of 13 variables. "
   ]
  },
  {
   "cell_type": "code",
   "execution_count": 33,
   "metadata": {},
   "outputs": [],
   "source": [
    "# Rescale data\n",
    "#Normalization\n",
    "#accuracy decreased, a lot of noise for high epoch\n",
    "#train_data = preprocessing.MinMaxScaler().fit_transform(train_data)\n",
    "#validation_data = preprocessing.MinMaxScaler().fit_transform(validation_data)\n",
    "#test_data = preprocessing.MinMaxScaler().fit_transform(test_data)\n",
    "\n",
    "#train_data = preprocessing.MaxAbsScaler().fit_transform(train_data)\n",
    "#validation_data = preprocessing.MaxAbsScaler().fit_transform(validation_data)\n",
    "#test_data = preprocessing.MaxAbsScaler().fit_transform(test_data)\n",
    "\n",
    "#Standardize\n",
    "#train_data = preprocessing.scale(train_data)\n",
    "#validation_data = preprocessing.scale(validation_data)\n",
    "#test_data = preprocessing.scale(test_data)\n",
    "\n",
    "train_data = preprocessing.StandardScaler().fit_transform(train_data)\n",
    "validation_data = preprocessing.StandardScaler().fit_transform(validation_data)\n",
    "test_data = preprocessing.StandardScaler().fit_transform(test_data)\n",
    "\n",
    "# mean = train_data.mean(axis=0)\n",
    "# std = train_data.std(axis=0)\n",
    "\n",
    "# train_data -= mean\n",
    "# train_data /= std\n",
    "\n",
    "# validation_data -= mean\n",
    "# validation_data /= std\n",
    "\n",
    "# test_data -= mean\n",
    "# test_data /= std"
   ]
  },
  {
   "cell_type": "markdown",
   "metadata": {},
   "source": [
    "All the variables don’t have the same scale and this will cause some issue in the machine learning model. So, **Data Rescaling** is used to limit the range of variables so that they can be compared on common grounds. The best method in this case is standardizing the data with StandardScaler."
   ]
  },
  {
   "cell_type": "code",
   "execution_count": 37,
   "metadata": {},
   "outputs": [
    {
     "name": "stdout",
     "output_type": "stream",
     "text": [
      "Model: \"sequential_6\"\n",
      "_________________________________________________________________\n",
      "Layer (type)                 Output Shape              Param #   \n",
      "=================================================================\n",
      "dense_12 (Dense)             (None, 12)                168       \n",
      "_________________________________________________________________\n",
      "dense_13 (Dense)             (None, 1)                 13        \n",
      "=================================================================\n",
      "Total params: 181\n",
      "Trainable params: 181\n",
      "Non-trainable params: 0\n",
      "_________________________________________________________________\n"
     ]
    }
   ],
   "source": [
    "#construct a network model \n",
    "network = Sequential()\n",
    "\n",
    "network.add(Dense(12, input_shape=(train_data.shape[1],), activation='relu'))\n",
    "network.add(Dense(1, activation='sigmoid'))\n",
    "network.summary()"
   ]
  },
  {
   "cell_type": "markdown",
   "metadata": {},
   "source": [
    "### 3.1.1 Network Architecture\n",
    "- This model have 1 hidden layer and 10 neurons (good ratio performances/complexity and not too long to train).\n",
    "- The activation function used in the hidden layer is a **rectified linear unit(ReLU)**. It is the most widely used activation function because of its advantages of being nonlinear, as well as the ability to not activate all the neurons at the same time. In simple terms, this means that at a time, only a few neurons are activated, making the network sparse and very efficient.\n",
    "- The final output layer of the network has a sigmoid activation function, which outputs a number between 0 and 1; this is interpreted as the probability of the sample to belong to class 1."
   ]
  },
  {
   "cell_type": "code",
   "execution_count": 38,
   "metadata": {},
   "outputs": [],
   "source": [
    "# Compile the model\n",
    "network.compile(loss='binary_crossentropy',\n",
    "              optimizer='adam',\n",
    "              metrics=['accuracy'])"
   ]
  },
  {
   "cell_type": "markdown",
   "metadata": {},
   "source": [
    "### 3.2 Network Model Training\n",
    "The network is initially trained with the training data and the training options of:\n",
    "- batch size : 32\n",
    "- epochs : 100\n",
    "- data shuffling : every-epoch\n",
    "\n",
    "After training, to achieve a more ideal result, the training options are tuned to:\n",
    "- batch size : 32\n",
    "- epochs : 60\n",
    "- data shuffling : every-epoch\n"
   ]
  },
  {
   "cell_type": "code",
   "execution_count": 39,
   "metadata": {},
   "outputs": [
    {
     "name": "stdout",
     "output_type": "stream",
     "text": [
      "Train on 179 samples, validate on 58 samples\n",
      "Epoch 1/40\n",
      "179/179 [==============================] - 2s 9ms/sample - loss: 0.7503 - accuracy: 0.5028 - val_loss: 0.6455 - val_accuracy: 0.6552\n",
      "Epoch 2/40\n",
      "179/179 [==============================] - 0s 530us/sample - loss: 0.7242 - accuracy: 0.5307 - val_loss: 0.6259 - val_accuracy: 0.6379\n",
      "Epoch 3/40\n",
      "179/179 [==============================] - 0s 542us/sample - loss: 0.7003 - accuracy: 0.5531 - val_loss: 0.6078 - val_accuracy: 0.6897\n",
      "Epoch 4/40\n",
      "179/179 [==============================] - 0s 497us/sample - loss: 0.6784 - accuracy: 0.5922 - val_loss: 0.5910 - val_accuracy: 0.7069\n",
      "Epoch 5/40\n",
      "179/179 [==============================] - 0s 592us/sample - loss: 0.6589 - accuracy: 0.6480 - val_loss: 0.5757 - val_accuracy: 0.7069\n",
      "Epoch 6/40\n",
      "179/179 [==============================] - 0s 502us/sample - loss: 0.6407 - accuracy: 0.6536 - val_loss: 0.5614 - val_accuracy: 0.7241\n",
      "Epoch 7/40\n",
      "179/179 [==============================] - 0s 508us/sample - loss: 0.6229 - accuracy: 0.6592 - val_loss: 0.5485 - val_accuracy: 0.7414\n",
      "Epoch 8/40\n",
      "179/179 [==============================] - 0s 497us/sample - loss: 0.6068 - accuracy: 0.6872 - val_loss: 0.5363 - val_accuracy: 0.7414\n",
      "Epoch 9/40\n",
      "179/179 [==============================] - 0s 569us/sample - loss: 0.5918 - accuracy: 0.6872 - val_loss: 0.5253 - val_accuracy: 0.7414\n",
      "Epoch 10/40\n",
      "179/179 [==============================] - 0s 502us/sample - loss: 0.5780 - accuracy: 0.6872 - val_loss: 0.5155 - val_accuracy: 0.7414\n",
      "Epoch 11/40\n",
      "179/179 [==============================] - 0s 525us/sample - loss: 0.5650 - accuracy: 0.6927 - val_loss: 0.5063 - val_accuracy: 0.7414\n",
      "Epoch 12/40\n",
      "179/179 [==============================] - 0s 502us/sample - loss: 0.5528 - accuracy: 0.7151 - val_loss: 0.4976 - val_accuracy: 0.7586\n",
      "Epoch 13/40\n",
      "179/179 [==============================] - 0s 597us/sample - loss: 0.5412 - accuracy: 0.7374 - val_loss: 0.4892 - val_accuracy: 0.7586\n",
      "Epoch 14/40\n",
      "179/179 [==============================] - 0s 659us/sample - loss: 0.5309 - accuracy: 0.7542 - val_loss: 0.4814 - val_accuracy: 0.7586\n",
      "Epoch 15/40\n",
      "179/179 [==============================] - 0s 553us/sample - loss: 0.5203 - accuracy: 0.7542 - val_loss: 0.4746 - val_accuracy: 0.7586\n",
      "Epoch 16/40\n",
      "179/179 [==============================] - 0s 525us/sample - loss: 0.5107 - accuracy: 0.7542 - val_loss: 0.4677 - val_accuracy: 0.7586\n",
      "Epoch 17/40\n",
      "179/179 [==============================] - 0s 491us/sample - loss: 0.5015 - accuracy: 0.7709 - val_loss: 0.4612 - val_accuracy: 0.7586\n",
      "Epoch 18/40\n",
      "179/179 [==============================] - 0s 452us/sample - loss: 0.4929 - accuracy: 0.7877 - val_loss: 0.4554 - val_accuracy: 0.7586\n",
      "Epoch 19/40\n",
      "179/179 [==============================] - 0s 536us/sample - loss: 0.4845 - accuracy: 0.7877 - val_loss: 0.4499 - val_accuracy: 0.7586\n",
      "Epoch 20/40\n",
      "179/179 [==============================] - 0s 525us/sample - loss: 0.4765 - accuracy: 0.7933 - val_loss: 0.4450 - val_accuracy: 0.7586\n",
      "Epoch 21/40\n",
      "179/179 [==============================] - 0s 514us/sample - loss: 0.4690 - accuracy: 0.8045 - val_loss: 0.4399 - val_accuracy: 0.7586\n",
      "Epoch 22/40\n",
      "179/179 [==============================] - 0s 536us/sample - loss: 0.4619 - accuracy: 0.8045 - val_loss: 0.4351 - val_accuracy: 0.7759\n",
      "Epoch 23/40\n",
      "179/179 [==============================] - 0s 542us/sample - loss: 0.4546 - accuracy: 0.8101 - val_loss: 0.4307 - val_accuracy: 0.7759\n",
      "Epoch 24/40\n",
      "179/179 [==============================] - 0s 447us/sample - loss: 0.4481 - accuracy: 0.8156 - val_loss: 0.4266 - val_accuracy: 0.7931\n",
      "Epoch 25/40\n",
      "179/179 [==============================] - 0s 653us/sample - loss: 0.4418 - accuracy: 0.8156 - val_loss: 0.4227 - val_accuracy: 0.7931\n",
      "Epoch 26/40\n",
      "179/179 [==============================] - 0s 469us/sample - loss: 0.4356 - accuracy: 0.8156 - val_loss: 0.4195 - val_accuracy: 0.7931\n",
      "Epoch 27/40\n",
      "179/179 [==============================] - 0s 575us/sample - loss: 0.4298 - accuracy: 0.8212 - val_loss: 0.4162 - val_accuracy: 0.7931\n",
      "Epoch 28/40\n",
      "179/179 [==============================] - 0s 575us/sample - loss: 0.4244 - accuracy: 0.8268 - val_loss: 0.4128 - val_accuracy: 0.8103\n",
      "Epoch 29/40\n",
      "179/179 [==============================] - 0s 497us/sample - loss: 0.4194 - accuracy: 0.8268 - val_loss: 0.4099 - val_accuracy: 0.8103\n",
      "Epoch 30/40\n",
      "179/179 [==============================] - 0s 558us/sample - loss: 0.4139 - accuracy: 0.8268 - val_loss: 0.4070 - val_accuracy: 0.8103\n",
      "Epoch 31/40\n",
      "179/179 [==============================] - 0s 558us/sample - loss: 0.4091 - accuracy: 0.8324 - val_loss: 0.4043 - val_accuracy: 0.8276\n",
      "Epoch 32/40\n",
      "179/179 [==============================] - 0s 502us/sample - loss: 0.4047 - accuracy: 0.8380 - val_loss: 0.4018 - val_accuracy: 0.8276\n",
      "Epoch 33/40\n",
      "179/179 [==============================] - 0s 547us/sample - loss: 0.4004 - accuracy: 0.8380 - val_loss: 0.3993 - val_accuracy: 0.8276\n",
      "Epoch 34/40\n",
      "179/179 [==============================] - 0s 575us/sample - loss: 0.3961 - accuracy: 0.8380 - val_loss: 0.3968 - val_accuracy: 0.8276\n",
      "Epoch 35/40\n",
      "179/179 [==============================] - 0s 441us/sample - loss: 0.3921 - accuracy: 0.8380 - val_loss: 0.3946 - val_accuracy: 0.8276\n",
      "Epoch 36/40\n",
      "179/179 [==============================] - 0s 597us/sample - loss: 0.3886 - accuracy: 0.8380 - val_loss: 0.3925 - val_accuracy: 0.8276\n",
      "Epoch 37/40\n",
      "179/179 [==============================] - 0s 1ms/sample - loss: 0.3848 - accuracy: 0.8436 - val_loss: 0.3907 - val_accuracy: 0.8276\n",
      "Epoch 38/40\n",
      "179/179 [==============================] - 0s 765us/sample - loss: 0.3816 - accuracy: 0.8436 - val_loss: 0.3891 - val_accuracy: 0.8276\n",
      "Epoch 39/40\n",
      "179/179 [==============================] - 0s 558us/sample - loss: 0.3783 - accuracy: 0.8436 - val_loss: 0.3876 - val_accuracy: 0.8276\n",
      "Epoch 40/40\n",
      "179/179 [==============================] - 0s 519us/sample - loss: 0.3751 - accuracy: 0.8436 - val_loss: 0.3859 - val_accuracy: 0.8276\n"
     ]
    },
    {
     "data": {
      "image/png": "[encoded data removed]",
      "text/plain": [
       "<Figure size 432x288 with 1 Axes>"
      ]
     },
     "metadata": {
      "needs_background": "light"
     },
     "output_type": "display_data"
    },
    {
     "data": {
      "image/png": "[encoded data removed]",
      "text/plain": [
       "<Figure size 432x288 with 1 Axes>"
      ]
     },
     "metadata": {
      "needs_background": "light"
     },
     "output_type": "display_data"
    }
   ],
   "source": [
    "# fit model on the training data-set\n",
    "history = network.fit(train_data, train_labels,\n",
    "                    epochs=40, batch_size=32, verbose=1,\n",
    "                    validation_data = (validation_data, validation_labels))\n",
    "\n",
    "# Plot training & validation accuracy values\n",
    "plt.plot(history.history['accuracy'])\n",
    "plt.plot(history.history['val_accuracy'])\n",
    "plt.title('Model accuracy')\n",
    "plt.ylabel('Accuracy')\n",
    "plt.xlabel('Epoch')\n",
    "plt.legend(['Train', 'Validate'], loc='upper left')\n",
    "plt.show()\n",
    "\n",
    "# Plot training & validation loss values\n",
    "plt.plot(history.history['loss'])\n",
    "plt.plot(history.history['val_loss'])\n",
    "plt.title('Model loss')\n",
    "plt.ylabel('Loss')\n",
    "plt.xlabel('Epoch')\n",
    "plt.legend(['Train', 'Validate'], loc='upper left')\n",
    "plt.show()\n",
    "\n",
    "plt.scatter(test_data, test_labels)"
   ]
  },
  {
   "cell_type": "markdown",
   "metadata": {},
   "source": [
    "The batch size is an important factor, usually it's quite good arround 32:\n",
    "- If it is below 32, performances needs a lot of epochs before it achieves the ideal result. \n",
    "- If it is above 32, performances will improve quickly but we have big overfitting.\n",
    "\n",
    "While to plot for the accuracy and loss, it depends on the batch size which allows us to see how quikly a model is improving.\n",
    "**The goal is** to have good performances without having to set a big batch size\n",
    "\n",
    "### 3.3 Network Model Validating"
   ]
  },
  {
   "cell_type": "code",
   "execution_count": 41,
   "metadata": {},
   "outputs": [
    {
     "name": "stdout",
     "output_type": "stream",
     "text": [
      "58/1 [============================================================================================================================================================================================================================================================================================================================================================================================================================================================================================================================================================================================================================================================================================================================================================================================================================================================================================================================================================================================================================================================================================================================================================================================================================================================================================================================================================================================================================================================================================================================================================================================================================================================================================================================================================================================================] - 0s 103us/sample - loss: 0.4400 - accuracy: 0.7586\n",
      "0.0 [0.11773846]\n",
      "1.0 [0.5490234]\n",
      "0.0 [0.23251987]\n",
      "1.0 [0.48181906]\n",
      "1.0 [0.4088933]\n",
      "1.0 [0.92423856]\n",
      "1.0 [0.6596707]\n",
      "0.0 [0.25465655]\n",
      "0.0 [0.61454767]\n",
      "1.0 [0.89001894]\n",
      "0.0 [0.8885101]\n",
      "0.0 [0.10994804]\n",
      "0.0 [0.29060882]\n",
      "0.0 [0.06272849]\n",
      "0.0 [0.15730467]\n",
      "0.0 [0.19143713]\n",
      "0.0 [0.3991434]\n",
      "1.0 [0.25630194]\n",
      "0.0 [0.1271452]\n",
      "1.0 [0.21253273]\n",
      "0.0 [0.08721673]\n",
      "0.0 [0.12561464]\n",
      "1.0 [0.92723083]\n",
      "1.0 [0.81626296]\n",
      "1.0 [0.7933841]\n",
      "1.0 [0.36271408]\n",
      "0.0 [0.16893926]\n",
      "1.0 [0.9247681]\n",
      "0.0 [0.8511876]\n",
      "1.0 [0.9689121]\n",
      "0.0 [0.07089964]\n",
      "1.0 [0.20050034]\n",
      "0.0 [0.65640324]\n",
      "0.0 [0.23745516]\n",
      "0.0 [0.10212487]\n",
      "1.0 [0.33129537]\n",
      "0.0 [0.11020067]\n",
      "1.0 [0.8598781]\n",
      "0.0 [0.14850712]\n",
      "1.0 [0.7487644]\n",
      "0.0 [0.09397021]\n",
      "1.0 [0.6086191]\n",
      "1.0 [0.9901251]\n",
      "1.0 [0.9346017]\n",
      "0.0 [0.24088675]\n",
      "0.0 [0.11739323]\n",
      "1.0 [0.7529451]\n",
      "0.0 [0.09674707]\n",
      "1.0 [0.6453244]\n",
      "1.0 [0.96458185]\n",
      "1.0 [0.3079434]\n",
      "0.0 [0.08035353]\n",
      "1.0 [0.9803779]\n",
      "1.0 [0.58345336]\n",
      "1.0 [0.27707565]\n",
      "1.0 [0.93729407]\n",
      "1.0 [0.86564094]\n",
      "1.0 [0.10484821]\n"
     ]
    }
   ],
   "source": [
    "# Once the network is trained, it can be evaluated. \n",
    "history = network.evaluate(x=test_data, y=test_labels,\n",
    "                    batch_size=35, verbose=1)\n",
    "\n",
    "pred_tensor = network.predict(test_data)\n",
    "\n",
    "for i in range(len(pred_tensor)):\n",
    "    print(test_labels[i], pred_tensor[i])"
   ]
  },
  {
   "cell_type": "markdown",
   "metadata": {},
   "source": [
    "## 4.0 Results\n",
    "Main results shown both graphically and explained textually "
   ]
  },
  {
   "cell_type": "markdown",
   "metadata": {},
   "source": [
    "## 5.0 Conclusion\n",
    "What were the main observations and how well the objectives were achieved"
   ]
  },
  {
   "cell_type": "code",
   "execution_count": null,
   "metadata": {},
   "outputs": [],
   "source": []
  }
 ],
 "metadata": {
  "kernelspec": {
   "display_name": "Python 3",
   "language": "python",
   "name": "python3"
  },
  "language_info": {
   "codemirror_mode": {
    "name": "ipython",
    "version": 3
   },
   "file_extension": ".py",
   "mimetype": "text/x-python",
   "name": "python",
   "nbconvert_exporter": "python",
   "pygments_lexer": "ipython3",
   "version": "3.7.4"
  }
 },
 "nbformat": 4,
 "nbformat_minor": 2
}
